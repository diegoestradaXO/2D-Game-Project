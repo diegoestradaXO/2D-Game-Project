{
  "nbformat": 4,
  "nbformat_minor": 5,
  "metadata": {
    "kernelspec": {
      "display_name": "Python 3 (ipykernel)",
      "language": "python",
      "name": "python3"
    },
    "language_info": {
      "codemirror_mode": {
        "name": "ipython",
        "version": 3
      },
      "file_extension": ".py",
      "mimetype": "text/x-python",
      "name": "python",
      "nbconvert_exporter": "python",
      "pygments_lexer": "ipython3",
      "version": "3.8.2"
    },
    "colab": {
      "name": "Lab 4.ipynb",
      "provenance": [],
      "collapsed_sections": [],
      "include_colab_link": true
    }
  },
  "cells": [
    {
      "cell_type": "markdown",
      "metadata": {
        "id": "view-in-github",
        "colab_type": "text"
      },
      "source": [
        "<a href=\"https://colab.research.google.com/github/diegoestradaXO/2D-Game-Project/blob/master/Lab_4.ipynb\" target=\"_parent\"><img src=\"https://colab.research.google.com/assets/colab-badge.svg\" alt=\"Open In Colab\"/></a>"
      ]
    },
    {
      "cell_type": "code",
      "metadata": {
        "id": "6NO4EhL0O103",
        "colab": {
          "base_uri": "https://localhost:8080/"
        },
        "outputId": "b18f3a0e-9db0-4ef2-8e0a-f7b9d982c0f1"
      },
      "source": [
        "from google.colab import drive\n",
        "drive.mount('/content/drive')"
      ],
      "id": "6NO4EhL0O103",
      "execution_count": 1,
      "outputs": [
        {
          "output_type": "stream",
          "text": [
            "Mounted at /content/drive\n"
          ],
          "name": "stdout"
        }
      ]
    },
    {
      "cell_type": "code",
      "metadata": {
        "colab": {
          "base_uri": "https://localhost:8080/"
        },
        "id": "R4bh45KlPKHw",
        "outputId": "e26c6240-e94d-4aa8-b151-fb06b2d563b5"
      },
      "source": [
        "!ls \"/content/drive/MyDrive/datasets/NLP/\""
      ],
      "id": "R4bh45KlPKHw",
      "execution_count": 2,
      "outputs": [
        {
          "output_type": "stream",
          "text": [
            "en_US.blogs.txt  en_US.news.txt  en_US.twitter.txt\n"
          ],
          "name": "stdout"
        }
      ]
    },
    {
      "cell_type": "code",
      "metadata": {
        "colab": {
          "base_uri": "https://localhost:8080/"
        },
        "id": "70d909af",
        "outputId": "618402c7-4969-4aa1-aac4-8213a89dda60"
      },
      "source": [
        "import pandas as pd\n",
        "import numpy as np\n",
        "import os\n",
        "import re\n",
        "import nltk\n",
        "nltk.download('stopwords')\n",
        "from nltk.corpus import stopwords\n",
        "from nltk.util import ngrams\n",
        "from nltk import word_tokenize\n",
        "import matplotlib.pyplot as plt\n",
        "from wordcloud import WordCloud\n",
        "from nltk.corpus import reuters\n",
        "from collections import Counter, defaultdict\n",
        "import random\n",
        "import warnings\n",
        "import copy"
      ],
      "id": "70d909af",
      "execution_count": 3,
      "outputs": [
        {
          "output_type": "stream",
          "text": [
            "[nltk_data] Downloading package stopwords to /root/nltk_data...\n",
            "[nltk_data]   Unzipping corpora/stopwords.zip.\n"
          ],
          "name": "stdout"
        }
      ]
    },
    {
      "cell_type": "markdown",
      "metadata": {
        "id": "fd5ZAUfhrQI0"
      },
      "source": [
        "# Carga de datos y preprocesamiento"
      ],
      "id": "fd5ZAUfhrQI0"
    },
    {
      "cell_type": "code",
      "metadata": {
        "id": "1wF9Y7HIRNxx"
      },
      "source": [
        "fileBlog = open('/content/drive/MyDrive/datasets/NLP/en_US.blogs.txt','r')\n",
        "fblog = fileBlog.readlines()\n",
        "blogs = [i.lower() for i in fblog] \n",
        "fileBlog.close()\n",
        "\n",
        "fileNews = open('/content/drive/MyDrive/datasets/NLP/en_US.news.txt','r')\n",
        "fnews = fileNews.readlines()\n",
        "news = [i.lower() for i in fnews]\n",
        "fileNews.close()\n",
        "\n",
        "fileTwitter = open('/content/drive/MyDrive/datasets/NLP/en_US.twitter.txt','r')\n",
        "ftwitter = fileTwitter.readlines()\n",
        "tweets = [i.lower() for i in ftwitter]\n",
        "fileTwitter.close()\n"
      ],
      "id": "1wF9Y7HIRNxx",
      "execution_count": 4,
      "outputs": []
    },
    {
      "cell_type": "code",
      "metadata": {
        "id": "94ecd37e"
      },
      "source": [
        "#Eliminar url\n",
        "blogs = [re.sub('\\w+:\\/{2}[\\d\\w-]+(\\.[\\d\\w-]+)*(?:(?:\\/[^\\s/]*))*','',i) for i in blogs]\n",
        "blogs = [re.sub(r'^https?:\\/\\/.*[\\r\\n]*', '', i) for i in blogs]\n",
        "\n",
        "news = [re.sub('\\w+:\\/{2}[\\d\\w-]+(\\.[\\d\\w-]+)*(?:(?:\\/[^\\s/]*))*','',i) for i in news]\n",
        "news = [re.sub(r'^https?:\\/\\/.*[\\r\\n]*', '', i) for i in news]\n",
        "\n",
        "tweets = [re.sub('\\w+:\\/{2}[\\d\\w-]+(\\.[\\d\\w-]+)*(?:(?:\\/[^\\s/]*))*','',i) for i in tweets]\n",
        "tweets = [re.sub(r'^https?:\\/\\/.*[\\r\\n]*', '', i) for i in tweets]\n",
        "\n",
        "### Se hace la eliminación de caracteres especiales, numeros y emojis\n",
        "tweets = [re.sub('[^a-zA-Z0-9 ]+','', i) for i in tweets]\n",
        "news = [re.sub('[^a-zA-Z0-9 ]+', '', i) for i in news]\n",
        "blogs = [re.sub('[^a-zA-Z0-9 ]+', '', i) for i in blogs]"
      ],
      "id": "94ecd37e",
      "execution_count": 5,
      "outputs": []
    },
    {
      "cell_type": "code",
      "metadata": {
        "id": "z9YrTgKRXYXP"
      },
      "source": [
        "#Quitar palabras tendencias\n",
        "stopwords = set(stopwords.words('english'))\n",
        "expresiones = ['im','rt','jk','btw','lol','yolo','lmao','lmfao','fb','like','get','em']\n",
        "for i in expresiones:\n",
        "    stopwords.add(i)\n",
        "\n",
        "clean_tweets = []\n",
        "for tweet in tweets:\n",
        "    word_list = []\n",
        "    for word in tweet.split():\n",
        "        if word not in stopwords:\n",
        "            word_list.append(word)\n",
        "    clean_tweets.append(' '.join(word_list))\n",
        "\n",
        "clean_blogs = []\n",
        "for blog in blogs:\n",
        "    word_listo = []\n",
        "    for word in blog.split():\n",
        "        if word not in stopwords:\n",
        "            word_listo.append(word)\n",
        "    clean_blogs.append(' '.join(word_listo))\n",
        "\n",
        "clean_news = []\n",
        "for new in news:\n",
        "    list_words = []\n",
        "    for word in new.split():\n",
        "        if word not in stopwords:\n",
        "            list_words.append(word)\n",
        "    clean_news.append(' '.join(list_words))"
      ],
      "id": "z9YrTgKRXYXP",
      "execution_count": 6,
      "outputs": []
    },
    {
      "cell_type": "markdown",
      "metadata": {
        "id": "N5wmvgRoVprR"
      },
      "source": [
        "# Análisis Exploratorio"
      ],
      "id": "N5wmvgRoVprR"
    },
    {
      "cell_type": "markdown",
      "metadata": {
        "id": "polished-maine"
      },
      "source": [
        "### Frecuencia en tweets"
      ],
      "id": "polished-maine"
    },
    {
      "cell_type": "code",
      "metadata": {
        "colab": {
          "base_uri": "https://localhost:8080/",
          "height": 424
        },
        "id": "concerned-debate",
        "outputId": "2408860b-0fad-431c-af6a-02b872cb1f64"
      },
      "source": [
        "frec_dic_tweets = {}\n",
        "for word in clean_tweets:\n",
        "    if word in frec_dic_tweets:\n",
        "        frec_dic_tweets[word] += 1\n",
        "    else:\n",
        "        frec_dic_tweets[word] = 1\n",
        "\n",
        "tweets_frecuency = pd.DataFrame.from_dict(frec_dic_tweets, orient='index')\n",
        "tweets_frecuency"
      ],
      "id": "concerned-debate",
      "execution_count": 7,
      "outputs": [
        {
          "output_type": "execute_result",
          "data": {
            "text/html": [
              "<div>\n",
              "<style scoped>\n",
              "    .dataframe tbody tr th:only-of-type {\n",
              "        vertical-align: middle;\n",
              "    }\n",
              "\n",
              "    .dataframe tbody tr th {\n",
              "        vertical-align: top;\n",
              "    }\n",
              "\n",
              "    .dataframe thead th {\n",
              "        text-align: right;\n",
              "    }\n",
              "</style>\n",
              "<table border=\"1\" class=\"dataframe\">\n",
              "  <thead>\n",
              "    <tr style=\"text-align: right;\">\n",
              "      <th></th>\n",
              "      <th>0</th>\n",
              "    </tr>\n",
              "  </thead>\n",
              "  <tbody>\n",
              "    <tr>\n",
              "      <th>thanks gonna dc anytime soon love see way way long</th>\n",
              "      <td>1</td>\n",
              "    </tr>\n",
              "    <tr>\n",
              "      <th>meet someone special youll know heart beat rapidly youll smile reason</th>\n",
              "      <td>1</td>\n",
              "    </tr>\n",
              "    <tr>\n",
              "      <th>theyve decided fun dont</th>\n",
              "      <td>1</td>\n",
              "    </tr>\n",
              "    <tr>\n",
              "      <th>tired played lazer tag ran lot ughh going sleep 5 minutes</th>\n",
              "      <td>1</td>\n",
              "    </tr>\n",
              "    <tr>\n",
              "      <th>words complete stranger made birthday even better</th>\n",
              "      <td>1</td>\n",
              "    </tr>\n",
              "    <tr>\n",
              "      <th>...</th>\n",
              "      <td>...</td>\n",
              "    </tr>\n",
              "    <tr>\n",
              "      <th>u didnt give</th>\n",
              "      <td>1</td>\n",
              "    </tr>\n",
              "    <tr>\n",
              "      <th>whats good see success got poppin yo area</th>\n",
              "      <td>1</td>\n",
              "    </tr>\n",
              "    <tr>\n",
              "      <th>consumers visual want data finger tips mobile way deliver 247</th>\n",
              "      <td>1</td>\n",
              "    </tr>\n",
              "    <tr>\n",
              "      <th>rhonj time</th>\n",
              "      <td>1</td>\n",
              "    </tr>\n",
              "    <tr>\n",
              "      <th>key keeping woman happy attention affection treat queen sex pornstar</th>\n",
              "      <td>1</td>\n",
              "    </tr>\n",
              "  </tbody>\n",
              "</table>\n",
              "<p>2167597 rows × 1 columns</p>\n",
              "</div>"
            ],
            "text/plain": [
              "                                                    0\n",
              "thanks gonna dc anytime soon love see way way long  1\n",
              "meet someone special youll know heart beat rapi...  1\n",
              "theyve decided fun dont                             1\n",
              "tired played lazer tag ran lot ughh going sleep...  1\n",
              "words complete stranger made birthday even better   1\n",
              "...                                                ..\n",
              "u didnt give                                        1\n",
              "whats good see success got poppin yo area           1\n",
              "consumers visual want data finger tips mobile w...  1\n",
              "rhonj time                                          1\n",
              "key keeping woman happy attention affection tre...  1\n",
              "\n",
              "[2167597 rows x 1 columns]"
            ]
          },
          "metadata": {},
          "execution_count": 7
        }
      ]
    },
    {
      "cell_type": "markdown",
      "metadata": {
        "id": "immune-batman"
      },
      "source": [
        "### Frecuencia en noticias"
      ],
      "id": "immune-batman"
    },
    {
      "cell_type": "code",
      "metadata": {
        "colab": {
          "base_uri": "https://localhost:8080/",
          "height": 545
        },
        "id": "reserved-antarctica",
        "outputId": "b7442c1f-f3a7-4a2f-f733-3e2b482cebbe"
      },
      "source": [
        "frec_dic_news = {}\n",
        "for word in clean_news:\n",
        "    if word in frec_dic_news:\n",
        "        frec_dic_news[word] += 1\n",
        "    else:\n",
        "        frec_dic_news[word] = 1\n",
        "\n",
        "news_frecuency = pd.DataFrame.from_dict(frec_dic_news, orient='index')\n",
        "news_frecuency"
      ],
      "id": "reserved-antarctica",
      "execution_count": 8,
      "outputs": [
        {
          "output_type": "execute_result",
          "data": {
            "text/html": [
              "<div>\n",
              "<style scoped>\n",
              "    .dataframe tbody tr th:only-of-type {\n",
              "        vertical-align: middle;\n",
              "    }\n",
              "\n",
              "    .dataframe tbody tr th {\n",
              "        vertical-align: top;\n",
              "    }\n",
              "\n",
              "    .dataframe thead th {\n",
              "        text-align: right;\n",
              "    }\n",
              "</style>\n",
              "<table border=\"1\" class=\"dataframe\">\n",
              "  <thead>\n",
              "    <tr style=\"text-align: right;\">\n",
              "      <th></th>\n",
              "      <th>0</th>\n",
              "    </tr>\n",
              "  </thead>\n",
              "  <tbody>\n",
              "    <tr>\n",
              "      <th>wasnt home alone apparently</th>\n",
              "      <td>1</td>\n",
              "    </tr>\n",
              "    <tr>\n",
              "      <th>st louis plant close would die old age workers making cars since onset mass automotive production 1920s</th>\n",
              "      <td>1</td>\n",
              "    </tr>\n",
              "    <tr>\n",
              "      <th>wsus plans quickly became hot topic local online sites though people applauded plans new biomedical center many deplored potential loss building</th>\n",
              "      <td>1</td>\n",
              "    </tr>\n",
              "    <tr>\n",
              "      <th>alaimo group mount holly contract last fall evaluate suggest improvements trenton water works campaign finance records released week show two employees donated total 4500 political action committee pac partners progress early june partners progress reported gave 10000 direct inkind contributions mayor tony mack two weeks leading victory mayoral runoff election june 15</th>\n",
              "      <td>1</td>\n",
              "    </tr>\n",
              "    <tr>\n",
              "      <th>often difficult predict laws impact legislators think twice carrying bill absolutely necessary issue serious enough merit attention definitely make situation worse</th>\n",
              "      <td>1</td>\n",
              "    </tr>\n",
              "    <tr>\n",
              "      <th>...</th>\n",
              "      <td>...</td>\n",
              "    </tr>\n",
              "    <tr>\n",
              "      <th>serve taste spring chop fresh vegetables olives cheeses grilled chicken set selection salad dressings let guests assemble chopped salads numbered jars hold dressings style 5 anthropologie see anthropologiecom stores</th>\n",
              "      <td>1</td>\n",
              "    </tr>\n",
              "    <tr>\n",
              "      <th>complaint alleges kuvan adil piromari 42 us driving school el cajon served gobetween applicants state employees one answered phone office</th>\n",
              "      <td>1</td>\n",
              "    </tr>\n",
              "    <tr>\n",
              "      <th>mood six months chill ice crystals northeast ohio ground soft fragrant seemingly overnight things growing tropics producing fruit earth sweet corn mightily fragrant herbs deep green tender broccoli</th>\n",
              "      <td>1</td>\n",
              "    </tr>\n",
              "    <tr>\n",
              "      <th>starts sunday chivas goats arent great team beat one 10 win salt lake rio tinto also one player rival roger espinoza best guy mls one talks doesnt play new york la pacific northwest goalkeeper dan kennedy tough points</th>\n",
              "      <td>1</td>\n",
              "    </tr>\n",
              "    <tr>\n",
              "      <th>outwardly religious adornment billboardsized banner image lady charity patron saint cuba hanging side national library</th>\n",
              "      <td>1</td>\n",
              "    </tr>\n",
              "  </tbody>\n",
              "</table>\n",
              "<p>1002429 rows × 1 columns</p>\n",
              "</div>"
            ],
            "text/plain": [
              "                                                    0\n",
              "wasnt home alone apparently                         1\n",
              "st louis plant close would die old age workers ...  1\n",
              "wsus plans quickly became hot topic local onlin...  1\n",
              "alaimo group mount holly contract last fall eva...  1\n",
              "often difficult predict laws impact legislators...  1\n",
              "...                                                ..\n",
              "serve taste spring chop fresh vegetables olives...  1\n",
              "complaint alleges kuvan adil piromari 42 us dri...  1\n",
              "mood six months chill ice crystals northeast oh...  1\n",
              "starts sunday chivas goats arent great team bea...  1\n",
              "outwardly religious adornment billboardsized ba...  1\n",
              "\n",
              "[1002429 rows x 1 columns]"
            ]
          },
          "metadata": {},
          "execution_count": 8
        }
      ]
    },
    {
      "cell_type": "markdown",
      "metadata": {
        "id": "broke-feelings"
      },
      "source": [
        "### Frecuencia en blogs"
      ],
      "id": "broke-feelings"
    },
    {
      "cell_type": "code",
      "metadata": {
        "id": "hawaiian-wales",
        "colab": {
          "base_uri": "https://localhost:8080/",
          "height": 650
        },
        "outputId": "1ebce6cd-b504-446f-d9ce-e835cf04028f"
      },
      "source": [
        "frec_dic_blogs = {}\n",
        "for word in blogs:\n",
        "    if word in frec_dic_blogs:\n",
        "        frec_dic_blogs[word] += 1\n",
        "    else:\n",
        "        frec_dic_blogs[word] = 1\n",
        "\n",
        "blogs_frecuency = pd.DataFrame.from_dict(frec_dic_blogs, orient='index')\n",
        "blogs_frecuency"
      ],
      "id": "hawaiian-wales",
      "execution_count": 9,
      "outputs": [
        {
          "output_type": "execute_result",
          "data": {
            "text/html": [
              "<div>\n",
              "<style scoped>\n",
              "    .dataframe tbody tr th:only-of-type {\n",
              "        vertical-align: middle;\n",
              "    }\n",
              "\n",
              "    .dataframe tbody tr th {\n",
              "        vertical-align: top;\n",
              "    }\n",
              "\n",
              "    .dataframe thead th {\n",
              "        text-align: right;\n",
              "    }\n",
              "</style>\n",
              "<table border=\"1\" class=\"dataframe\">\n",
              "  <thead>\n",
              "    <tr style=\"text-align: right;\">\n",
              "      <th></th>\n",
              "      <th>0</th>\n",
              "    </tr>\n",
              "  </thead>\n",
              "  <tbody>\n",
              "    <tr>\n",
              "      <th>in the years thereafter most of the oil fields and platforms were named after pagan gods</th>\n",
              "      <td>1</td>\n",
              "    </tr>\n",
              "    <tr>\n",
              "      <th>we love you mr brown</th>\n",
              "      <td>1</td>\n",
              "    </tr>\n",
              "    <tr>\n",
              "      <th>chad has been awesome with the kids and holding down the fort while i work later than usual the kids have been busy together playing skylander on the xbox together after kyan cashed in his  from his piggy bank he wanted that game so bad and used his gift card from his birthday he has been saving and the money to get it he never taps into that thing either that is how we know he wanted it so bad we made him count all of his money to make sure that he had enough it was very cute to watch his reaction when he realized he did he also does a very good job of letting lola feel like she is playing too by letting her switch out the characters she loves it almost as much as him</th>\n",
              "      <td>1</td>\n",
              "    </tr>\n",
              "    <tr>\n",
              "      <th>so anyways i am going to share some home decor inspiration that i have been storing in my folder on the puter i have all these amazing images stored away ready to come to life when we get our home</th>\n",
              "      <td>1</td>\n",
              "    </tr>\n",
              "    <tr>\n",
              "      <th>with graduation season right around the corner nancy has whipped up a fun set to help you out with not only your graduation cards and gifts but any occasion that brings on a change in ones life i stamped the images in memento tuxedo black and cut them out with circle nestabilities i embossed the kraft and red cardstock with tes new stars impressions plate which is double sided and gives you 2 fantastic patterns you can see how to use the impressions plates in this tutorial taylor created just one pass through your die cut machine using the embossing pad kit is all you need to do  super easy</th>\n",
              "      <td>1</td>\n",
              "    </tr>\n",
              "    <tr>\n",
              "      <th>...</th>\n",
              "      <td>...</td>\n",
              "    </tr>\n",
              "    <tr>\n",
              "      <th>the hulking mass of unfinished brick and concrete at 2013 35th st is so unsightly it became a poster child for zoning reform</th>\n",
              "      <td>1</td>\n",
              "    </tr>\n",
              "    <tr>\n",
              "      <th>the 2004 iifa award ceremony witnessed a contingent of over 450 stars celebrities cricketers industrialists and government leaders over the festive weekend</th>\n",
              "      <td>1</td>\n",
              "    </tr>\n",
              "    <tr>\n",
              "      <th>plus i have also been allowing myself not to get stressed over things that have not been done if the ironing is not done right now its not the end of the world if that phone call is made tomorrow rather than today then thats ok too living in the moment and allowing myself the time to get back to feeling great</th>\n",
              "      <td>1</td>\n",
              "    </tr>\n",
              "    <tr>\n",
              "      <th>5 whats the barrier to entry and why is the business sustainable</th>\n",
              "      <td>1</td>\n",
              "    </tr>\n",
              "    <tr>\n",
              "      <th>in response to an overwhelming number of comments we sat down and created a list of do s and dont s  these recommendations are easy to follow and except for  adding some herbs to your rinse  so lets get begin</th>\n",
              "      <td>1</td>\n",
              "    </tr>\n",
              "  </tbody>\n",
              "</table>\n",
              "<p>893471 rows × 1 columns</p>\n",
              "</div>"
            ],
            "text/plain": [
              "                                                    0\n",
              "in the years thereafter most of the oil fields ...  1\n",
              "we love you mr brown                                1\n",
              "chad has been awesome with the kids and holding...  1\n",
              "so anyways i am going to share some home decor ...  1\n",
              "with graduation season right around the corner ...  1\n",
              "...                                                ..\n",
              "the hulking mass of unfinished brick and concre...  1\n",
              "the 2004 iifa award ceremony witnessed a contin...  1\n",
              "plus i have also been allowing myself not to ge...  1\n",
              "5 whats the barrier to entry and why is the bus...  1\n",
              "in response to an overwhelming number of commen...  1\n",
              "\n",
              "[893471 rows x 1 columns]"
            ]
          },
          "metadata": {},
          "execution_count": 9
        }
      ]
    },
    {
      "cell_type": "markdown",
      "metadata": {
        "id": "diAufeM0oxty"
      },
      "source": [
        "## Frecuencia en palabras"
      ],
      "id": "diAufeM0oxty"
    },
    {
      "cell_type": "code",
      "metadata": {
        "id": "SpH-45CoabEQ"
      },
      "source": [
        "news_count = Counter()\n",
        "\n",
        "for title in clean_news:\n",
        "    news_count.update(word.strip('.,?!\"\\'').lower() for word in title.split())"
      ],
      "id": "SpH-45CoabEQ",
      "execution_count": 10,
      "outputs": []
    },
    {
      "cell_type": "code",
      "metadata": {
        "id": "_hNX0FCao12H"
      },
      "source": [
        "blog_count = Counter()\n",
        "for blog in clean_blogs:\n",
        "    blog_count.update(word.strip('.,?!\"\\'').lower() for word in blog.split())"
      ],
      "id": "_hNX0FCao12H",
      "execution_count": 11,
      "outputs": []
    },
    {
      "cell_type": "code",
      "metadata": {
        "id": "gVQ1hhAHo43Q"
      },
      "source": [
        "tweet_count = Counter()\n",
        "\n",
        "for tweet in clean_tweets:\n",
        "    tweet_count.update(word.strip('.,?!\"\\'').lower() for word in tweet.split())"
      ],
      "id": "gVQ1hhAHo43Q",
      "execution_count": 12,
      "outputs": []
    },
    {
      "cell_type": "markdown",
      "metadata": {
        "id": "t-Bw-lnWo-Pz"
      },
      "source": [
        "Palabras con mayor presencia"
      ],
      "id": "t-Bw-lnWo-Pz"
    },
    {
      "cell_type": "code",
      "metadata": {
        "colab": {
          "base_uri": "https://localhost:8080/"
        },
        "id": "2M-8Z5fvpAfF",
        "outputId": "0c954cab-86d4-41ce-b768-5ab31fafb654"
      },
      "source": [
        "tweet_count.most_common(10)"
      ],
      "id": "2M-8Z5fvpAfF",
      "execution_count": 13,
      "outputs": [
        {
          "output_type": "execute_result",
          "data": {
            "text/plain": [
              "[('love', 105459),\n",
              " ('good', 99641),\n",
              " ('dont', 90063),\n",
              " ('thanks', 88611),\n",
              " ('day', 88571),\n",
              " ('one', 81297),\n",
              " ('know', 79207),\n",
              " ('u', 75913),\n",
              " ('great', 75349),\n",
              " ('time', 74623)]"
            ]
          },
          "metadata": {},
          "execution_count": 13
        }
      ]
    },
    {
      "cell_type": "code",
      "metadata": {
        "colab": {
          "base_uri": "https://localhost:8080/"
        },
        "id": "8CnWIuXQpD8e",
        "outputId": "236edeac-4674-48a5-dd55-cf46b3406c3f"
      },
      "source": [
        "blog_count.most_common(10)"
      ],
      "id": "8CnWIuXQpD8e",
      "execution_count": 14,
      "outputs": [
        {
          "output_type": "execute_result",
          "data": {
            "text/plain": [
              "[('one', 124321),\n",
              " ('time', 88110),\n",
              " ('would', 81663),\n",
              " ('know', 59932),\n",
              " ('people', 59217),\n",
              " ('dont', 56252),\n",
              " ('also', 55255),\n",
              " ('new', 54335),\n",
              " ('us', 53583),\n",
              " ('even', 51743)]"
            ]
          },
          "metadata": {},
          "execution_count": 14
        }
      ]
    },
    {
      "cell_type": "code",
      "metadata": {
        "colab": {
          "base_uri": "https://localhost:8080/"
        },
        "id": "hXnHh4xbpF-_",
        "outputId": "ada19bf2-fc4e-444b-e9fd-9b553ced9400"
      },
      "source": [
        "news_count.most_common(10)"
      ],
      "id": "hXnHh4xbpF-_",
      "execution_count": 15,
      "outputs": [
        {
          "output_type": "execute_result",
          "data": {
            "text/plain": [
              "[('said', 250347),\n",
              " ('one', 83167),\n",
              " ('would', 71595),\n",
              " ('new', 70301),\n",
              " ('also', 58756),\n",
              " ('two', 57340),\n",
              " ('year', 54764),\n",
              " ('first', 52628),\n",
              " ('years', 51527),\n",
              " ('last', 51521)]"
            ]
          },
          "metadata": {},
          "execution_count": 15
        }
      ]
    },
    {
      "cell_type": "markdown",
      "metadata": {
        "id": "25RIF9K1pPoK"
      },
      "source": [
        "### Nube de palabras"
      ],
      "id": "25RIF9K1pPoK"
    },
    {
      "cell_type": "code",
      "metadata": {
        "colab": {
          "base_uri": "https://localhost:8080/",
          "height": 287
        },
        "id": "JSmdYmiXpRnc",
        "outputId": "d8e3ce47-7833-4e71-9fb0-1cac9e5a96dd"
      },
      "source": [
        "cloud_tweet = WordCloud(background_color=\"white\",width=1000,height=1000, max_words=10,relative_scaling=0.5,normalize_plurals=False).generate_from_frequencies(tweet_count)\n",
        "plt.imshow(cloud_tweet)"
      ],
      "id": "JSmdYmiXpRnc",
      "execution_count": 16,
      "outputs": [
        {
          "output_type": "execute_result",
          "data": {
            "text/plain": [
              "<matplotlib.image.AxesImage at 0x7f8065201850>"
            ]
          },
          "metadata": {},
          "execution_count": 16
        },
        {
          "output_type": "display_data",
          "data": {
            "image/png": "[encoded data removed]",
            "text/plain": [
              "<Figure size 432x288 with 1 Axes>"
            ]
          },
          "metadata": {
            "needs_background": "light"
          }
        }
      ]
    },
    {
      "cell_type": "code",
      "metadata": {
        "colab": {
          "base_uri": "https://localhost:8080/",
          "height": 287
        },
        "id": "eTRoAKOdpVMK",
        "outputId": "7c463bd1-df9c-49b2-c982-0ec076a0c941"
      },
      "source": [
        "cloud_blog = WordCloud(background_color=\"white\",width=1000,height=1000, max_words=10,relative_scaling=0.5,normalize_plurals=False).generate_from_frequencies(blog_count)\n",
        "plt.imshow(cloud_blog)"
      ],
      "id": "eTRoAKOdpVMK",
      "execution_count": 17,
      "outputs": [
        {
          "output_type": "execute_result",
          "data": {
            "text/plain": [
              "<matplotlib.image.AxesImage at 0x7f80629c8f50>"
            ]
          },
          "metadata": {},
          "execution_count": 17
        },
        {
          "output_type": "display_data",
          "data": {
            "image/png": "[encoded data removed]",
            "text/plain": [
              "<Figure size 432x288 with 1 Axes>"
            ]
          },
          "metadata": {
            "needs_background": "light"
          }
        }
      ]
    },
    {
      "cell_type": "code",
      "metadata": {
        "colab": {
          "base_uri": "https://localhost:8080/",
          "height": 287
        },
        "id": "urRirTX1pZh3",
        "outputId": "d6f1c485-3d25-415c-b830-ebe54fcc0cda"
      },
      "source": [
        "cloud_news = WordCloud(background_color=\"white\",width=1000,height=1000, max_words=10,relative_scaling=0.5,normalize_plurals=False).generate_from_frequencies(news_count)\n",
        "plt.imshow(cloud_news)"
      ],
      "id": "urRirTX1pZh3",
      "execution_count": 18,
      "outputs": [
        {
          "output_type": "execute_result",
          "data": {
            "text/plain": [
              "<matplotlib.image.AxesImage at 0x7f8063130cd0>"
            ]
          },
          "metadata": {},
          "execution_count": 18
        },
        {
          "output_type": "display_data",
          "data": {
            "image/png": "[encoded data removed]",
            "text/plain": [
              "<Figure size 432x288 with 1 Axes>"
            ]
          },
          "metadata": {
            "needs_background": "light"
          }
        }
      ]
    },
    {
      "cell_type": "markdown",
      "metadata": {
        "id": "62Fv2fSvpeny"
      },
      "source": [
        "### Gráficas de barras"
      ],
      "id": "62Fv2fSvpeny"
    },
    {
      "cell_type": "code",
      "metadata": {
        "colab": {
          "base_uri": "https://localhost:8080/",
          "height": 336
        },
        "id": "80EPre4gpiIV",
        "outputId": "17eea25b-0b00-4259-c784-2a445edf358d"
      },
      "source": [
        "datos_tweet = tweet_count.most_common(10)\n",
        "fig = plt.figure()\n",
        "ax = fig.add_axes([0,0,1,1])\n",
        "x_axis = [i[0] for i in datos_tweet]\n",
        "y_axis = [i[1] for i in datos_tweet]\n",
        "ax.bar(x_axis,y_axis)\n",
        "plt.show()"
      ],
      "id": "80EPre4gpiIV",
      "execution_count": 19,
      "outputs": [
        {
          "output_type": "display_data",
          "data": {
            "image/png": "[encoded data removed]",
            "text/plain": [
              "<Figure size 432x288 with 1 Axes>"
            ]
          },
          "metadata": {
            "needs_background": "light"
          }
        }
      ]
    },
    {
      "cell_type": "code",
      "metadata": {
        "colab": {
          "base_uri": "https://localhost:8080/",
          "height": 336
        },
        "id": "m_JNQsbupjYJ",
        "outputId": "49ae729c-1337-4c5b-d068-59a493856fa8"
      },
      "source": [
        "datos_blog = blog_count.most_common(10)\n",
        "fig = plt.figure()\n",
        "ax = fig.add_axes([0,0,1,1])\n",
        "x_axis = [i[0] for i in datos_blog]\n",
        "y_axis = [i[1] for i in datos_blog]\n",
        "ax.bar(x_axis,y_axis)\n",
        "plt.show()"
      ],
      "id": "m_JNQsbupjYJ",
      "execution_count": 20,
      "outputs": [
        {
          "output_type": "display_data",
          "data": {
            "image/png": "[encoded data removed]",
            "text/plain": [
              "<Figure size 432x288 with 1 Axes>"
            ]
          },
          "metadata": {
            "needs_background": "light"
          }
        }
      ]
    },
    {
      "cell_type": "code",
      "metadata": {
        "colab": {
          "base_uri": "https://localhost:8080/",
          "height": 336
        },
        "id": "QgVh8d2cpmmK",
        "outputId": "285c70a1-2262-4c19-e8d9-671231258276"
      },
      "source": [
        "datos_news = news_count.most_common(10)\n",
        "fig = plt.figure()\n",
        "ax = fig.add_axes([0,0,1,1])\n",
        "x_axis = [i[0] for i in datos_news]\n",
        "y_axis = [i[1] for i in datos_news]\n",
        "ax.bar(x_axis,y_axis)\n",
        "plt.show()"
      ],
      "id": "QgVh8d2cpmmK",
      "execution_count": 21,
      "outputs": [
        {
          "output_type": "display_data",
          "data": {
            "image/png": "[encoded data removed]",
            "text/plain": [
              "<Figure size 432x288 with 1 Axes>"
            ]
          },
          "metadata": {
            "needs_background": "light"
          }
        }
      ]
    },
    {
      "cell_type": "markdown",
      "metadata": {
        "id": "YCvzJFU9rHDj"
      },
      "source": [
        "## N-Gramas"
      ],
      "id": "YCvzJFU9rHDj"
    },
    {
      "cell_type": "code",
      "metadata": {
        "id": "ph2aFDaurLEQ"
      },
      "source": [
        "global_data = clean_tweets+clean_news+clean_blogs"
      ],
      "id": "ph2aFDaurLEQ",
      "execution_count": 22,
      "outputs": []
    },
    {
      "cell_type": "code",
      "metadata": {
        "id": "ZLvD0soXrtJX"
      },
      "source": [
        "val=round(len(global_data)*0.1,0)\n",
        "random_sample=random.sample(global_data,int(val))"
      ],
      "id": "ZLvD0soXrtJX",
      "execution_count": 23,
      "outputs": []
    },
    {
      "cell_type": "markdown",
      "metadata": {
        "id": "6jvwSDhLsAuH"
      },
      "source": [
        "### 2-Grama"
      ],
      "id": "6jvwSDhLsAuH"
    },
    {
      "cell_type": "code",
      "metadata": {
        "id": "FsTi2sOEr9bS"
      },
      "source": [
        "warnings.filterwarnings('ignore')"
      ],
      "id": "FsTi2sOEr9bS",
      "execution_count": 24,
      "outputs": []
    },
    {
      "cell_type": "code",
      "metadata": {
        "colab": {
          "base_uri": "https://localhost:8080/"
        },
        "id": "lDo8hXaMufar",
        "outputId": "e9a02d20-6ed5-44da-bb44-82e6c03bdd32"
      },
      "source": [
        "digrama=[]\n",
        "print(digrama)\n",
        "size=2\n",
        "def ngram(ngrama, size):\n",
        "  for word in range(len(random_sample)):\n",
        "    try:\n",
        "      for item in ngrams(random_sample[word].split(),size):\n",
        "          ngrama.append(item)\n",
        "    except:\n",
        "        return\n",
        "\n",
        "ngram(digrama, size)\n",
        "print(digrama)"
      ],
      "id": "lDo8hXaMufar",
      "execution_count": 30,
      "outputs": [
        {
          "output_type": "stream",
          "text": [
            "[]\n",
            "[('dont', 'expect'), ('expect', 'make'), ('make', 'million'), ('million', 'added'), ('added', 'araceli'), ('araceli', 'restaurant'), ('restaurant', 'server'), ('server', 'dollar'), ('dollar', 'pocket'), ('pocket', 'thank'), ('thank', 'god'), ('knights', 'aim'), ('aim', 'improvement'), ('youre', 'best'), ('best', 'dude'), ('dude', 'podcasting'), ('podcasting', 'movies'), ('movies', 'know'), ('continued', 'pachyderm'), ('pachyderm', 'project'), ('project', 'ipad'), ('ipad', 'app'), ('app', 'generated'), ('bills', 'recently'), ('recently', 'introduced'), ('introduced', 'us'), ('us', 'house'), ('house', 'senate'), ('senate', 'new'), ('new', 'jersey'), ('jersey', 'lawmakers'), ('lawmakers', 'aim'), ('aim', 'close'), ('close', 'loopholes'), ('loopholes', 'natural'), ('natural', 'gas'), ('gas', 'drillers'), ('drillers', 'written'), ('written', 'federal'), ('federal', 'environmental'), ('environmental', 'regulations'), ('elisett', 'torres'), ('torres', '51'), ('51', 'kissimmee'), ('kissimmee', 'died'), ('died', 'monday'), ('monday', 'funeraria'), ('funeraria', 'san'), ('san', 'juan'), ('juan', 'kissimmee'), ('said', 'bolton'), ('bolton', 'ran'), ('ran', 'courageous'), ('courageous', 'race'), ('race', 'whole'), ('whole', 'way'), ('way', 'dirt'), ('dirt', 'face'), ('face', 'entire'), ('entire', 'time'), ('time', 'stretch'), ('getting', 'ready'), ('ready', 'meeting'), ('meeting', 'co'), ('co', 'repub'), ('repub', 'committee'), ('committee', 'tech'), ('tech', 'guy'), ('guy', 'wishing'), ('wishing', 'would'), ('would', 'hear'), ('hear', 'leadership'), ('leadership', 'institute'), ('institute', 'va'), ('leads', 'another'), ('another', 'decision'), ('decision', 'must'), ('must', 'stitch'), ('stitch', 'smaller'), ('smaller', 'projects'), ('projects', 'stitching'), ('stitching', 'larger'), ('larger', 'ones'), ('ones', 'way'), ('way', 'still'), ('still', 'satisfaction'), ('satisfaction', 'finish'), ('finish', 'inspire'), ('inspire', 'continue'), ('continue', 'end'), ('end', 'larger'), ('larger', 'project'), ('project', 'fingers'), ('fingers', 'crossed'), ('lovin', 'bud'), ('bud', 'doritos'), ('doritos', 'leno'), ('leno', 'letterman'), ('letterman', 'oprah'), ('best', 'things'), ('things', 'hold'), ('hold', 'life'), ('life', 'audrey'), ('audrey', 'hepburn'), ('cant', 'wait'), ('wait', 'american'), ('american', 'pie'), ('pie', 'reunion'), ('reunion', 'film'), ('film', 'next'), ('next', 'year'), ('kudos', 'gamma'), ('gamma', 'chapter'), ('chapter', 'winner'), ('winner', 'outstanding'), ('outstanding', 'chapter'), ('chapter', 'management'), ('management', 'award'), ('good', 'hows'), ('hows', 'things'), ('things', 'wit'), ('wit', 'u'), ('honored', 'visit'), ('visit', 'week'), ('week', 'bike'), ('bike', 'across'), ('across', 'country'), ('country', 'raise'), ('raise', 'awareness'), ('awareness', 'homeless'), ('homeless', 'pets'), ('gary', 'jones'), ('jones', 'receiving'), ('receiving', 'end'), ('end', 'vandalism'), ('vandalism', '2010'), ('2010', 'another'), ('another', 'cushing'), ('cushing', 'lobsterman'), ('lobsterman', 'charged'), ('charged', 'cutting'), ('cutting', '22'), ('22', 'lobster'), ('lobster', 'buoys'), ('buoys', 'time'), ('time', 'jones'), ('jones', 'said'), ('said', 'trap'), ('trap', 'gear'), ('gear', 'vandalism'), ('vandalism', 'cost'), ('cost', 'nearly'), ('nearly', '10000'), ('10000', 'three'), ('three', 'years'), ('catherine', 'deneuve'), ('deneuve', 'france'), ('unduly', 'limiting'), ('limiting', 'burdensome'), ('burdensome', 'sets'), ('sets', 'procedure'), ('procedure', 'timeconsuming'), ('timeconsuming', 'would'), ('would', 'cut'), ('cut', 'privilege'), ('privilege', 'legislature'), ('legislature', 'intend'), ('intend', 'said'), ('said', 'bosworth'), ('bosworth', 'also'), ('also', 'director'), ('director', 'open'), ('open', 'oregon'), ('oregon', 'nonprofit'), ('nonprofit', 'freedomofinformation'), ('freedomofinformation', 'coalition'), ('done', 'though'), ('though', 'brought'), ('brought', 'light'), ('light', 'things'), ('things', 'decisions'), ('decisions', 'need'), ('need', 'taken'), ('taken', 'care'), ('care', 'ive'), ('ive', 'started'), ('started', 'talk'), ('talk', 'important'), ('important', 'stuff'), ('stuff', 'mundane'), ('mundane', 'stuff'), ('stuff', 'find'), ('find', 'start'), ('start', 'talking'), ('talking', 'whether'), ('whether', 'strangers'), ('strangers', 'important'), ('important', 'people'), ('people', 'makes'), ('makes', 'easier'), ('easier', 'talk'), ('willpower', 'achieve'), ('achieve', 'great'), ('great', 'deal'), ('deal', 'mentally'), ('mentally', 'command'), ('command', 'iron'), ('iron', 'work'), ('work', 'stubbornly'), ('stubbornly', 'refuses'), ('johnson', 'shown'), ('shown', 'gradual'), ('gradual', 'improvement'), ('improvement', 'past'), ('past', 'two'), ('two', 'years'), ('years', 'started'), ('started', 'nine'), ('nine', 'games'), ('games', 'rhodes'), ('rhodes', 'suffered'), ('suffered', 'broken'), ('broken', 'foot'), ('foot', '2011'), ('2011', 'johnson'), ('johnson', 'played'), ('played', 'mostly'), ('mostly', 'run'), ('run', 'situations'), ('situations', 'replaced'), ('replaced', 'richard'), ('richard', 'marshall'), ('marshall', 'many'), ('many', 'passing'), ('passing', 'situations'), ('disclaimer', 'way'), ('way', 'quilting'), ('quilting', 'expert'), ('expert', 'learn'), ('learn', 'solely'), ('solely', 'trial'), ('trial', 'error'), ('error', 'emphasis'), ('emphasis', 'error'), ('error', 'reading'), ('reading', 'internet'), ('internet', 'made'), ('made', '4'), ('4', 'quilt'), ('quilt', 'tops'), ('tops', 'hand'), ('hand', 'quilted'), ('quilted', '1'), ('1', 'top'), ('top', 'machine'), ('machine', 'quilted'), ('quilted', '4'), ('4', 'tops'), ('tops', 'saying'), ('saying', 'everything'), ('everything', 'right'), ('right', 'way'), ('way', 'sharing'), ('sharing', 'ive'), ('ive', 'picked'), ('picked', 'far'), ('far', 'youll'), ('youll', 'probably'), ('probably', 'learn'), ('learn', 'best'), ('best', 'trial'), ('trial', 'error'), ('sooner', 'soon'), ('well', 'sure'), ('sure', 'dont'), ('dont', 'overloading'), ('armed', 'robbery'), ('robbery', 'feb'), ('feb', '26'), ('26', '22yearold'), ('22yearold', 'resident'), ('resident', '2000'), ('2000', 'block'), ('block', 'south'), ('south', 'center'), ('center', 'street'), ('street', 'maryville'), ('maryville', 'arrested'), ('arrested', 'autobody'), ('autobody', 'shop'), ('shop', 'charge'), ('charge', 'armed'), ('armed', 'robbery'), ('stupid', 'people'), ('people', 'decide'), ('decide', 'stop'), ('stop', 'right'), ('right', 'middle'), ('middle', 'hall'), ('hall', 'hug'), ('hug', 'move'), ('move', 'bitch'), ('youre', 'talented'), ('talented', 'writer'), ('writer', 'dont'), ('dont', 'questioned'), ('questioned', 'smiled'), ('smiled', 'shrugged'), ('practice', '26th'), ('uaw', 'local'), ('local', '1250'), ('1250', 'brook'), ('brook', 'park'), ('park', 'engine'), ('engine', 'complex'), ('complex', '61'), ('61', 'percent'), ('percent', '39'), ('39', 'percent'), ('got', 'whitey'), ('whitey', 'santa'), ('santa', 'monica'), ('20111013', 'brewers'), ('brewers', '4'), ('4', 'cardinals'), ('cardinals', '2'), ('2', '6'), ('6', 'cards'), ('cards', 'come'), ('come', 'empty'), ('empty', 'uecker'), ('uecker', 'says'), ('says', 'radio'), ('radio', 'randy'), ('randy', 'wolf'), ('wolf', 'works'), ('works', 'well'), ('announcing', 'late'), ('late', 'night'), ('night', 'happy'), ('happy', 'hour'), ('hour', 'game'), ('game', 'days'), ('days', '9close'), ('9close', 'excluding'), ('excluding', 'sundays'), ('sundays', 'since'), ('since', 'open'), ('open', 'till'), ('till', '2'), ('2', 'cheers'), ('cheers', 'lr'), ('knew', 'way'), ('way', 'older'), ('older', 'brothers'), ('brothers', 'treated'), ('treated', 'youd'), ('youd', 'happy'), ('happy', 'confined'), ('confined', 'internet'), ('cutter', 'actually'), ('actually', 'ideal'), ('sixth', 'suggestion'), ('suggestion', 'pick'), ('pick', 'evening'), ('evening', 'rainy'), ('rainy', 'saturday'), ('saturday', 'afternoon'), ('afternoon', 'spend'), ('spend', 'two'), ('two', 'hours'), ('hours', 'together'), ('together', 'watching'), ('watching', 'movie'), ('movie', 'cuddling'), ('cuddling', 'together'), ('well', 'notable'), ('notable', 'eagle'), ('eagle', 'rock'), ('night', 'yall'), ('yall', 'blessed'), ('blessed', 'last'), ('last', 'home'), ('home', 'game'), ('game', 'tomorrow'), ('dude', 'work'), ('work', 'talking'), ('talking', 'getting'), ('getting', 'eyebrows'), ('eyebrows', 'plucked'), ('plucked', 'waxed'), ('waxed', 'trim'), ('trim', 'mine'), ('mine', 'keep'), ('keep', 'looking'), ('looking', 'good'), ('good', 'waxing'), ('waxing', 'plucking'), ('plucking', 'gay'), ('gets', 'easier'), ('easier', 'summer'), ('summer', 'strictly'), ('strictly', 'precipitationbased'), ('wonder', 'curse'), ('curse', 'words'), ('words', '2000'), ('2000', 'years'), ('years', 'ago'), ('think', 'came'), ('came', 'checked'), ('checked', 'vevo'), ('vevo', 'tho'), ('tho', 'thing'), ('thing', 'live'), ('live', 'performance'), ('funny', 'story'), ('story', 'say'), ('say', 'funny'), ('funny', 'mean'), ('mean', 'probably'), ('probably', 'funny'), ('funny', 'much'), ('much', 'also'), ('also', 'go'), ('go', 'know'), ('know', 'yes'), ('yes', 'weird'), ('weird', 'socially'), ('socially', 'backward'), ('backward', 'describes'), ('describes', 'let'), ('let', 'nothing'), ('nothing', 'write'), ('write', 'denial'), ('denial', 'stipulated'), ('new', 'jersey'), ('jersey', 'home'), ('home', 'growth'), ('growth', 'need'), ('need', 'reform'), ('reform', 'taxes'), ('taxes', 'place'), ('place', 'business'), ('business', 'individuals'), ('individuals', 'begin'), ('begin', 'roll'), ('roll', 'back'), ('look', 'numbers'), ('numbers', 'entire'), ('entire', 'series'), ('series', 'compared'), ('compared', 'everyone'), ('everyone', 'else'), ('else', 'ok'), ('ok', '634'), ('634', 'last'), ('last', '5'), ('5', 'games'), ('games', 'bench'), ('bench', 'stepped'), ('part', 'talking'), ('talking', 'children'), ('children', 'parents'), ('parents', 'vaccine'), ('vaccine', 'giving'), ('giving', 'crash'), ('crash', 'course'), ('course', 'hpv'), ('hpv', '40'), ('40', 'strains'), ('strains', 'virus'), ('virus', 'sexually'), ('sexually', 'transmitted'), ('transmitted', 'gardasil'), ('gardasil', 'protects'), ('protects', 'four'), ('four', 'strains'), ('strains', 'virus'), ('virus', 'cause'), ('cause', 'majority'), ('majority', 'cervical'), ('cervical', 'cancers'), ('good', 'fun'), ('fun', 'also'), ('also', 'serious'), ('serious', 'learning'), ('learning', 'said'), ('said', 'retired'), ('retired', 'vice'), ('vice', 'adm'), ('adm', 'gerald'), ('gerald', 'l'), ('l', 'hoewing'), ('hoewing', 'ambitions'), ('ambitions', 'commander'), ('commander', 'president'), ('president', 'national'), ('national', 'flight'), ('flight', 'academy'), ('academy', 'former'), ('former', 'naval'), ('naval', 'aviator'), ('aviator', 'commanded'), ('commanded', 'aircraft'), ('aircraft', 'carrier'), ('carrier', 'uss'), ('uss', 'john'), ('john', 'f'), ('f', 'kennedy'), ('kennedy', 'fleet'), ('fleet', 'included'), ('included', 'aircraft'), ('aircraft', 'carrier'), ('carrier', 'uss'), ('uss', 'john'), ('john', 'c'), ('c', 'stennis'), ('surviving', 'owners'), ('owners', 'afford'), ('afford', 'take'), ('take', 'risk'), ('risk', 'compare'), ('compare', 'risk'), ('risk', 'annual'), ('annual', 'premium'), ('premium', 'cost'), ('cost', 'necessary'), ('necessary', 'provide'), ('provide', '400000'), ('400000', '15year'), ('15year', 'term'), ('term', 'life'), ('life', 'policy'), ('policy', 'would'), ('would', 'immediately'), ('immediately', 'fund'), ('fund', 'buysell'), ('buysell', 'liability'), ('liability', 'event'), ('event', 'untimely'), ('untimely', 'death'), ('death', 'policy'), ('policy', 'would'), ('would', 'total'), ('total', 'premium'), ('premium', 'approximately'), ('approximately', '1500'), ('1500', 'new'), ('new', 'sales'), ('sales', 'necessary'), ('necessary', 'support'), ('support', 'nondeductable'), ('nondeductable', 'expense'), ('expense', 'year'), ('year', 'premium'), ('premium', 'payable'), ('payable', 'would'), ('would', '46154'), ('46154', 'single'), ('single', 'hypothetical'), ('hypothetical', 'example'), ('example', 'actual'), ('actual', 'costs'), ('costs', 'would'), ('would', 'vary'), ('vary', 'based'), ('based', 'age'), ('age', 'gender'), ('gender', 'relative'), ('relative', 'health'), ('health', 'issuing'), ('issuing', 'insurance'), ('insurance', 'company'), ('always', 'funny'), ('funny', 'small'), ('small', 'world'), ('world', 'socially'), ('socially', 'especially'), ('especially', 'expansive'), ('expansive', 'use'), ('use', 'interwebz'), ('wouldnt', 'say'), ('say', 'doesnt'), ('doesnt', 'feel'), ('feel', 'friday'), ('friday', 'id'), ('id', 'swear'), ('swear', 'feels'), ('feels', 'thursday'), ('thursday', 'least'), ('least', 'wednesday'), ('wednesday', 'calendar'), ('calendar', 'tells'), ('tells', 'monday'), ('monday', 'blogger'), ('blogger', 'tells'), ('tells', 'many'), ('many', 'moons'), ('moons', 'since'), ('since', 'last'), ('last', 'around'), ('around', 'ive'), ('ive', 'got'), ('got', 'quiet'), ('quiet', 'night'), ('night', 'high'), ('high', 'time'), ('time', 'caught'), ('two', 'plays'), ('plays', 'two'), ('two', 'festivals'), ('festivals', 'midtown'), ('midtown', 'international'), ('international', 'theatre'), ('theatre', 'festival'), ('festival', 'fringe'), ('fringe', 'festival'), ('festival', 'nyc'), ('three', 'days'), ('days', 'deliberations'), ('deliberations', '12person'), ('12person', 'jury'), ('jury', 'paul'), ('paul', 'bergrin'), ('bergrin', 'murder'), ('murder', 'trial'), ('trial', 'still'), ('still', 'reached'), ('reached', 'verdict'), ('thank', 'rob'), ('rob', 'continental'), ('continental', 'airlines'), ('airlines', 'one'), ('one', 'pleasant'), ('pleasant', 'flying'), ('flying', 'experiences'), ('experiences', 'recent'), ('recent', 'memory'), ('memory', 'flight'), ('flight', '2825'), ('2825', 'keep'), ('keep', 'good'), ('good', 'work'), ('testing', 'became'), ('became', 'apparent'), ('apparent', 'way'), ('way', 'make'), ('make', 'sure'), ('sure', 'product'), ('product', 'use'), ('use', 'high'), ('high', 'quality'), ('quality', 'water'), ('water', 'grains'), ('grains', 'ingredient'), ('ingredient', 'second'), ('second', 'thing'), ('thing', 'distill'), ('distill', '4'), ('4', 'times'), ('times', 'remove'), ('remove', 'natural'), ('natural', 'impurities'), ('impurities', 'may'), ('may', 'appear'), ('appear', 'distilling'), ('distilling', 'process'), ('process', 'filtered'), ('filtered', 'total'), ('total', '7'), ('7', 'times'), ('times', 'many'), ('many', 'people'), ('people', 'think'), ('think', 'number'), ('number', 'times'), ('times', 'distill'), ('distill', 'vodka'), ('vodka', 'important'), ('important', 'thing'), ('thing', 'important'), ('important', 'filtration'), ('filtration', 'also'), ('also', 'important'), ('important', 'course'), ('course', 'quality'), ('quality', 'water'), ('class', '530reading'), ('every', 'time'), ('time', 'come'), ('come', 'park'), ('park', 'smell'), ('smell', 'weed'), ('dont', 'know'), ('know', 'edit'), ('happy', 'new'), ('new', 'years'), ('years', 'eve'), ('eve', 'followers'), ('followers', 'hope'), ('hope', 'ur'), ('ur', 'dreams'), ('dreams', 'come'), ('come', 'true'), ('true', '2012'), ('oooooooohhhhhhhhhhhh', 'didntjimmy'), ('didntjimmy', 'kimmel'), ('kimmel', 'fool'), ('turning', 'starbucks'), ('starbucks', 'haha'), ('haha', 'yeah'), ('yeah', 'ill'), ('ill', 'splint'), ('splint', '10'), ('10', 'days'), ('days', 'ill'), ('ill', 'back'), ('back', 'normal'), ('boys', 'kinda'), ('kinda', 'sour'), ('sour', 'patch'), ('patch', 'kids'), ('kids', 'first'), ('first', 'theyre'), ('theyre', 'sour'), ('sour', 'theyre'), ('theyre', 'sweet'), ('lounges', 'toptier'), ('toptier', 'hotels'), ('hotels', 'distinct'), ('distinct', 'musical'), ('musical', 'niche'), ('niche', 'rarefied'), ('rarefied', 'murmurous'), ('murmurous', 'dimly'), ('dimly', 'lit'), ('lit', 'world'), ('world', 'castillo'), ('castillo', 'de'), ('de', 'la'), ('la', 'gala'), ('gala', 'highly'), ('highly', 'polished'), ('polished', 'fixture'), ('fixture', 'even'), ('even', 'minor'), ('minor', 'legend'), ('hi', 'questions'), ('questions', '4'), ('4', 'x'), ('x', 'factor'), ('factor', 'contestants'), ('contestants', 'one'), ('one', 'u'), ('u', 'u'), ('u', 'want'), ('want', 'santa'), ('santa', '2'), ('2', 'bring'), ('bring', 'u'), ('u', '4'), ('4', 'xmas'), ('melissa', 'esh'), ('esh', 'excavates'), ('excavates', 'female'), ('female', 'adolescent'), ('adolescent', 'sexual'), ('sexual', 'agency'), ('agency', 'glee'), ('glee', 'still'), ('still', 'problematic'), ('13', 'straight'), ('straight', 'games'), ('games', 'opposing'), ('opposing', 'starters'), ('starters', 'pitched'), ('pitched', 'least'), ('least', 'five'), ('five', 'innings'), ('innings', 'tigers'), ('tigers', 'exactly'), ('exactly', 'ringing'), ('ringing', 'endorsement'), ('endorsement', 'highoctane'), ('highoctane', 'offense'), ('offense', 'created'), ('created', 'put'), ('put', 'relentless'), ('relentless', 'pressure'), ('pressure', 'starting'), ('starting', 'pitching'), ('pitching', 'forcing'), ('forcing', 'managers'), ('managers', 'use'), ('use', 'bullpens'), ('bullpens', 'much'), ('much', 'earlier'), ('earlier', 'theyd'), ('theyd', 'prefer'), ('hanging', 'good'), ('good', 'friend'), ('friend', 'taking'), ('taking', 'break'), ('break', 'grind'), ('attacks', 'real'), ('real', 'stealthy'), ('stealthy', 'persistent'), ('persistent', 'devastate'), ('devastate', 'nation'), ('hamilton', 'earns'), ('earns', 'another'), ('another', 'f1'), ('f1', 'pole'), ('sand', 'pours'), ('pours', 'shines'), ('shines', 'hangs'), ('hangs', 'shimmers'), ('shimmers', 'dust'), ('dust', 'air'), ('furthermore', 'said'), ('said', 'sweatshirt'), ('sweatshirt', 'could'), ('could', 'caused'), ('caused', 'disturbance'), ('disturbance', '10'), ('10', 'minutes'), ('minutes', 'albrecht'), ('albrecht', 'wore'), ('wore', 'escorted'), ('escorted', 'office'), ('office', 'start'), ('start', 'school'), ('school', 'day'), ('day', 'albrecht'), ('albrecht', 'said'), ('said', 'one'), ('one', 'commented'), ('commented', 'shirt'), ('ugh', 'says'), ('says', 'qualified'), ('qualified', 'speak'), ('speak', 'death'), ('death', 'penalty'), ('penalty', 'issues'), ('issues', 'huh'), ('huh', 'sure'), ('sure', 'hes'), ('hes', 'marriage'), ('marriage', 'law'), ('law', 'scholar'), ('scholar', 'though'), ('mandy', 'hey'), ('hey', 'steven'), ('steven', 'guess'), ('guess', 'getting'), ('getting', 'married'), ('attend', 'mobile'), ('mobile', 'track'), ('track', 'computers'), ('computers', 'libraries'), ('libraries', 'cil11'), ('cil11', '32311'), ('32311', 'learn'), ('learn', 'big'), ('big', 'trends'), ('trends', 'mobile'), ('mobile', 'tech'), ('youcuteandallbut', 'youre'), ('youre', 'austin'), ('austin', 'mahone'), ('outside', 'court'), ('court', 'clear'), ('clear', 'impression'), ('impression', 'debate'), ('debate', 'arizona'), ('arizona', 'law'), ('law', 'entry'), ('entry', 'point'), ('point', 'anyone'), ('anyone', 'strong'), ('strong', 'feelings'), ('feelings', 'immigration'), ('immigration', 'policy'), ('policy', 'reform'), ('keep', 'hearing'), ('hearing', 'u'), ('u', 'believe'), ('believe', 'awesome'), ('awesome', 'didnt'), ('didnt', 'see'), ('see', 'yet'), ('yet', 'dvrd'), ('dvrd', 'check'), ('check', 'next'), ('next', 'week'), ('0509', '1304'), ('1304', 'pdt'), ('pdt', 'ponte'), ('ponte', 'vedra'), ('vedra', 'beach'), ('beach', 'fla'), ('fla', 'ap'), ('charges', 'related'), ('related', 'actual'), ('actual', 'watergate'), ('watergate', 'burglary'), ('burglary', 'coverup'), ('coverup', 'also'), ('also', 'dropped'), ('dropped', 'served'), ('served', 'seven'), ('seven', 'months'), ('months', 'prison'), ('good', 'thing'), ('submitted', 'proposal'), ('proposal', 'volume'), ('volume', 'beyonces'), ('beyonces', 'amsasha'), ('amsasha', 'fierce'), ('every', 'saturday'), ('saturday', 'morning'), ('morning', '8001000am'), ('8001000am', 'friends'), ('friends', 'german'), ('german', 'music'), ('music', 'live'), ('live', 'studios'), ('studios', 'beautiful'), ('beautiful', 'west'), ('west', 'sacramento'), ('sacramento', 'join'), ('join', 'us'), ('many', 'rain'), ('rain', 'gardens'), ('gardens', 'twin'), ('twin', 'cities'), ('cities', 'even'), ('even', 'years'), ('years', 'ago'), ('ago', 'visually'), ('visually', 'appealing'), ('appealing', 'even'), ('even', 'job'), ('job', 'collecting'), ('collecting', 'filtering'), ('filtering', 'water'), ('water', 'runoff'), ('runoff', 'containing'), ('containing', 'dirt'), ('dirt', 'lawn'), ('lawn', 'chemicals'), ('chemicals', 'nasty'), ('nasty', 'stuff'), ('stuff', 'doesnt'), ('doesnt', 'end'), ('end', 'lakes'), ('lakes', 'creeks'), ('totally', 'love'), ('love', 'young'), ('young', 'mans'), ('mans', 'voice'), ('voice', 'future'), ('future', 'star'), ('walk', 'knowledge'), ('knowledge', 'youll'), ('youll', 'never'), ('never', 'walk'), ('walk', 'alone'), ('gambling', 'asked'), ('asked', 'whether'), ('whether', 'nypd'), ('nypd', 'still'), ('still', 'conducting'), ('conducting', 'operations'), ('operations', 'similar'), ('similar', 'one'), ('one', 'newark'), ('newark', 'bloomberg'), ('bloomberg', 'responded'), ('responded', 'let'), ('let', 'careful'), ('careful', 'phrase'), ('phrase', 'let'), ('let', 'guard'), ('guard', 'take'), ('take', 'threats'), ('threats', 'today'), ('today', 'seriously'), ('seriously', 'threats'), ('threats', 'september'), ('september', '12'), ('12', '2001'), ('put', 'solitary'), ('solitary', 'confinement'), ('confinement', 'smith'), ('smith', '25'), ('25', 'wrote'), ('wrote', 'latest'), ('latest', 'letter'), ('letter', 'home'), ('home', 'youngstown'), ('youngstown', 'avenue'), ('avenue', 'guess'), ('guess', 'think'), ('think', 'make'), ('make', 'miserable'), ('miserable', 'ill'), ('ill', 'start'), ('start', 'lying'), ('lying', 'locked'), ('locked', 'us'), ('us', 'already'), ('already', 'gotta'), ('gotta', 'torture'), ('torture', 'us'), ('walk', 'earth'), ('earth', 'world'), ('world', 'really'), ('really', 'hasnt'), ('hasnt', 'changed'), ('changed', 'much'), ('much', 'since'), ('since', 'time'), ('claim', 'god'), ('god', 'new'), ('new', 'thing'), ('4260', 'connecticut'), ('connecticut', 'st'), ('st', '23000'), ('new', 'high'), ('high', 'school'), ('school', 'built'), ('built', 'two'), ('two', 'phases'), ('phases', 'first'), ('first', '200000'), ('200000', 'square'), ('square', 'feet'), ('feet', 'accommodate'), ('accommodate', '1200'), ('1200', 'students'), ('students', 'second'), ('second', 'phase'), ('phase', 'would'), ('would', 'add'), ('add', '60000'), ('60000', 'square'), ('square', 'feet'), ('feet', 'including'), ('including', 'auditorium'), ('auditorium', 'second'), ('second', 'gymnasium'), ('drums', 'pounding'), ('pounding', 'chants'), ('chants', 'filling'), ('filling', 'air'), ('air', 'anc'), ('anc', 'president'), ('president', 'jacob'), ('jacob', 'zuma'), ('zuma', 'initiated'), ('initiated', 'traditional'), ('traditional', 'cleansing'), ('cleansing', 'ceremony'), ('ceremony', 'ritually'), ('ritually', 'sacrificing'), ('sacrificing', 'bull'), ('bull', 'killing'), ('killing', 'spear'), ('spear', 'tied'), ('tied', 'tree'), ('tree', 'anc'), ('anc', 'secretary'), ('secretary', 'general'), ('general', 'gwede'), ('gwede', 'mantashe'), ('mantashe', 'explained'), ('explained', 'traditionally'), ('traditionally', 'act'), ('act', 'slaughtering'), ('slaughtering', 'different'), ('different', 'meanings'), ('meanings', 'nations'), ('nations', 'way'), ('way', 'celebration'), ('celebration', 'slaughter'), ('slaughter', 'different'), ('different', 'circumstances'), ('circumstances', 'interfaith'), ('interfaith', 'service'), ('service', 'included'), ('included', 'messages'), ('messages', 'blessings'), ('blessings', 'representatives'), ('representatives', 'major'), ('major', 'religions'), ('religions', 'including'), ('including', 'muslim'), ('muslim', 'hindu'), ('hindu', 'christian'), ('christian', 'rastafarian'), ('rastafarian', 'traditional'), ('traditional', 'animist'), ('animist', 'witchdoctors'), ('witchdoctors', 'despite'), ('despite', 'anc'), ('anc', 'chaplain'), ('chaplain', 'generals'), ('generals', 'assertion'), ('assertion', 'nations'), ('nations', 'way'), ('way', 'celebration'), ('celebration', 'slaughter'), ('slaughter', 'journalists'), ('journalists', 'could'), ('could', 'think'), ('think', 'queen'), ('queen', 'england'), ('england', 'example'), ('example', 'marks'), ('marks', 'national'), ('national', 'events'), ('events', 'ritual'), ('ritual', 'slaughter'), ('slaughter', 'helpless'), ('helpless', 'animal'), ('tales', 'say'), ('say', 'worms'), ('worms', 'hind'), ('hind', 'end'), ('spectacular', 'conf'), ('conf', 'first'), ('first', 'time'), ('time', 'back'), ('back', 'campus'), ('campus', '18'), ('18', 'years'), ('years', '1990'), ('1990', 'grad'), ('loved', 'video'), ('video', 'guys'), ('guys', 'sent'), ('sent', 'hold'), ('hold', 'amazing'), ('amazing', 'song'), ('song', 'thnks'), ('thnks', '3'), ('winners', 'chosen'), ('chosen', 'via'), ('via', 'randomorg'), ('randomorg', 'october'), ('october', '15th'), ('15th', '2010'), ('2010', 'last'), ('last', 'valid'), ('valid', 'entry'), ('entry', 'entered'), ('entered', 'october'), ('october', '14th'), ('14th', '2010'), ('2010', 'midnight'), ('midnight', 'pst'), ('pst', 'winners'), ('winners', '48'), ('48', 'hours'), ('hours', 'respond'), ('respond', 'another'), ('another', 'winner'), ('winner', 'chosen'), ('chosen', 'via'), ('via', 'randomorg'), ('schedules', 'perfect'), ('perfect', 'know'), ('know', 'id'), ('id', 'done'), ('done', 'things'), ('things', 'ignore'), ('ignore', 'twitter'), ('twitter', 'facebook'), ('facebook', 'generally'), ('generally', 'managed'), ('managed', 'time'), ('time', 'better'), ('better', 'okay'), ('okay', 'balance'), ('balance', 'right'), ('right', 'though'), ('though', 'feel'), ('feel', 'still'), ('still', 'making'), ('making', 'forward'), ('forward', 'progress'), ('progress', 'might'), ('might', 'inching'), ('inching', 'rather'), ('rather', 'running'), ('running', 'still'), ('still', 'forward'), ('yesterday', 'omar'), ('omar', 'texted'), ('texted', 'jazmin'), ('jazmin', 'papisit'), ('papisit', 'today'), ('today', 'texted'), ('texted', 'daddyfun'), ('daddyfun', 'omfg'), ('omfg', 'dumb'), ('dumb', 'typos'), ('wat', 'r'), ('r', 'u'), ('hyb', 'hybridizer'), ('bush', 'still'), ('still', 'president'), ('president', 'mornings'), ('mornings', 'news'), ('news', 'would'), ('would', 'predator'), ('predator', 'drone'), ('drone', 'strike'), ('strike', 'killed'), ('killed', 'one'), ('one', 'bin'), ('bin', 'ladens'), ('ladens', 'wives'), ('intense', 'game'), ('game', 'cherry'), ('cherry', 'creek'), ('creek', 'high'), ('high', 'school'), ('school', 'columbine'), ('columbine', 'upset'), ('upset', 'arapahoe'), ('arapahoe', '7163'), ('thanks', 'cindy'), ('cindy', 'blessed'), ('blessed', 'day'), ('reading', 'north'), ('north', 'dakota'), ('dakota', 'aviation'), ('aviation', 'quarterly'), ('quarterly', 'dont'), ('dont', 'worry'), ('worry', 'mending'), ('mending', 'ways'), ('futures', 'blooming'), ('blooming', 'distantly'), ('69factsaboutme', '55'), ('55', 'want'), ('want', 'ice'), ('ice', 'cream'), ('thx', 'following'), ('following', 'absolutely'), ('absolutely', 'chicago'), ('chicago', 'segway'), ('segway', 'tours'), ('claussen', '13'), ('good', 'point'), ('hunter', 'allowed'), ('allowed', 'five'), ('five', 'runs'), ('runs', 'four'), ('four', 'earned'), ('earned', 'six'), ('six', 'hits'), ('hits', 'six'), ('six', 'innings'), ('innings', 'two'), ('two', 'strikeouts'), ('strikeouts', 'two'), ('two', 'walks'), ('walks', 'chased'), ('chased', 'game'), ('game', 'issuing'), ('issuing', 'leadoff'), ('leadoff', 'walk'), ('walk', 'seventh'), ('seventh', 'righthanded'), ('righthanded', 'reliever'), ('reliever', 'darren'), ('darren', 'oday'), ('oday', 'got'), ('got', 'orioles'), ('orioles', 'inning'), ('true', 'small'), ('small', 'percentage'), ('percentage', 'friends'), ('friends', 'circle'), ('circle', 'even'), ('even', 'concerned'), ('concerned', 'legalization'), ('legalization', 'marijuana'), ('join', 'pres'), ('pres', 'obama'), ('obama', 'congratulating'), ('congratulating', 'ppl'), ('ppl', 'tunisia'), ('tunisia', 'historic'), ('historic', '1st'), ('1st', 'elections'), ('elections', 'inspiringbut'), ('inspiringbut', 'mr'), ('mr', 'wrk'), ('ill', 'interviewing'), ('interviewing', 'signore'), ('signore', 'london'), ('london', 'next'), ('next', 'monday'), ('monday', 'marvelous'), ('marvelous', 'middle'), ('middle', 'grade'), ('grade', 'monday'), ('monday', 'kindly'), ('kindly', 'offered'), ('offered', 'signed'), ('signed', 'copy'), ('copy', 'plus'), ('plus', 'super'), ('super', 'secret'), ('secret', 'surprise'), ('surprise', 'item'), ('item', 'one'), ('one', 'lucky'), ('lucky', 'blog'), ('blog', 'commenter'), ('canada', 'gets'), ('gets', 'even'), ('even', 'complicated'), ('complicated', 'two'), ('two', 'canadian'), ('canadian', 'literatures'), ('literatures', 'lets'), ('lets', 'call'), ('call', 'lower'), ('lower', 'case'), ('case', 'canadian'), ('canadian', 'literature'), ('literature', 'upper'), ('upper', 'case'), ('case', 'canadian'), ('canadian', 'literature'), ('literature', 'lower'), ('lower', 'case'), ('case', 'canadian'), ('canadian', 'literature'), ('literature', 'wide'), ('wide', 'umbrella'), ('umbrella', 'covers'), ('covers', 'literature'), ('literature', 'produced'), ('produced', 'canada'), ('canada', 'upper'), ('upper', 'case'), ('case', 'canadian'), ('canadian', 'literature'), ('literature', 'subgenre'), ('subgenre', 'within'), ('within', 'literary'), ('literary', 'fiction'), ('fiction', 'includes'), ('includes', 'works'), ('works', 'quintessentially'), ('quintessentially', 'canadian'), ('dress', 'lunatic'), ('lunatic', 'newyork'), ('awkward', 'moment'), ('moment', 'take'), ('take', 'holland'), ('holland', 'exchange'), ('exchange', 'student'), ('student', 'anatomy'), ('anatomy', 'dissecting'), ('dissecting', 'rats'), ('good', 'day'), ('cant', 'stop'), ('stop', 'missing'), ('price', '139'), ('139', 'trader'), ('trader', 'joes'), ('light', 'cigarette'), ('cigarette', 'packages'), ('packages', 'promised'), ('promised', 'lower'), ('lower', 'tar'), ('tar', 'nicotine'), ('nicotine', 'made'), ('made', 'tobacco'), ('tobacco', 'regular'), ('regular', 'cigarettes'), ('cigarettes', 'smokers'), ('smokers', 'might'), ('might', 'compensate'), ('compensate', 'lower'), ('lower', 'nicotine'), ('nicotine', 'inhaling'), ('inhaling', 'deeply'), ('deeply', 'said'), ('tonight', 'vendetta'), ('vendetta', 'big'), ('big', 'band'), ('band', 'live'), ('live', 'beauty'), ('beauty', 'bar'), ('bar', '617'), ('617', 'e'), ('e', '7th'), ('7th', 'st'), ('st', 'austin'), ('austin', 'texas'), ('texas', 'swank'), ('swank', 'jazz'), ('jazz', 'standards'), ('standards', 'cocktails'), ('cocktails', 'etc'), ('etc', '10pm12mid'), ('well', 'sir'), ('sir', 'time'), ('time', 'plan'), ('plan', 'ensign'), ('ensign', 'marute'), ('marute', 'told'), ('told', 'assist'), ('assist', 'questions'), ('questions', 'tobias'), ('tobias', 'stated'), ('stated', 'quite'), ('quite', 'nervously'), ('nope', 'send'), ('send', 'click'), ('click', 'submit'), ('submit', 'music'), ('top', 'might'), ('might', 'dancing'), ('dancing', '90'), ('90', 'degrees'), ('degrees', 'quite'), ('quite', 'demanding'), ('demanding', 'ballet'), ('ballet', 'dont'), ('dont', 'want'), ('want', 'faint'), ('faint', 'onstage'), ('onstage', 'way'), ('way', 'natural'), ('natural', 'airconditioning'), ('yo', 'face'), ('face', 'look'), ('look', 'muthafuckin'), ('muthafuckin', 'shoefrom'), ('shoefrom', 'payless'), ('intel', 'amd'), ('amd', 'responding'), ('responding', 'new'), ('new', 'chips'), ('chips', 'designed'), ('designed', 'make'), ('make', 'people'), ('people', 'think'), ('think', 'twice'), ('twice', 'picking'), ('picking', 'tablet'), ('tablet', 'new'), ('new', 'pc'), ('pc', 'new'), ('new', 'chips'), ('chips', 'wont'), ('wont', 'dampen'), ('dampen', 'success'), ('success', 'tablets'), ('tablets', 'make'), ('make', 'traditional'), ('traditional', 'lowcost'), ('lowcost', 'computers'), ('computers', 'competitive'), ('competitive', 'making'), ('making', 'better'), ('better', 'graphicsintensive'), ('graphicsintensive', 'tasks'), ('tasks', 'playing'), ('playing', 'video'), ('far', 'improving'), ('improving', 'american'), ('american', 'security'), ('security', 'americans'), ('americans', 'pretty'), ('pretty', 'much'), ('much', 'secure'), ('secure', 'foreign'), ('foreign', 'terrorists'), ('terrorists', 'idea'), ('idea', 'theres'), ('theres', 'jihadi'), ('jihadi', 'hiding'), ('hiding', 'behind'), ('behind', 'every'), ('every', 'rock'), ('rock', 'waiting'), ('waiting', 'murder'), ('murder', 'helpless'), ('helpless', 'americans'), ('americans', 'retarded'), ('retarded', 'threat'), ('threat', 'american'), ('american', 'security'), ('security', 'american'), ('american', 'origin'), ('ty', 'belong'), ('belong', 'writing'), ('writing', 'groups'), ('salt', 'required'), ('played', 'game'), ('game', 'many'), ('many', 'times'), ('times', 'order'), ('order', 'survive'), ('survive', 'every'), ('every', 'time'), ('time', 'end'), ('end', 'getting'), ('getting', 'worndown'), ('worndown', 'emotionally'), ('emotionally', 'game'), ('game', 'consequences'), ('consequences', 'little'), ('little', 'pieces'), ('pieces', 'soul'), ('soul', 'chipped'), ('chipped', 'away'), ('away', 'every'), ('every', 'time'), ('time', 'kiss'), ('kiss', 'npd'), ('npd', 'butt'), ('join', '1000'), ('1000', 'friends'), ('friends', '4'), ('4', 'biggest'), ('biggest', 'party'), ('party', 'year'), ('year', '2nite'), ('2nite', 'myhouse'), ('myhouse', 'nightclub'), ('nightclub', 'huge'), ('huge', 'bottle'), ('bottle', 'specials'), ('specials', 'vip'), ('vip', 'list'), ('list', 'reply'), ('reply', 'yes'), ('yes', '4'), ('4', 'details'), ('man', 'named'), ('named', 'twitter'), ('twitter', 'handle'), ('handle', 'volk'), ('volk', 'han'), ('han', 'means'), ('means', 'lot'), ('lot', 'one'), ('one', 'favorites'), ('favorites', 'virtual'), ('virtual', 'pro'), ('pro', 'wrestling'), ('wrestling', '2'), ('vacuum', 'cleaner'), ('sanchez', 'make'), ('make', 'first'), ('first', 'court'), ('court', 'appearance'), ('appearance', 'new'), ('new', 'charges'), ('charges', '2'), ('2', 'pm'), ('pm', 'newark'), ('newark', 'guttenberg'), ('guttenberg', 'police'), ('police', 'hudson'), ('hudson', 'county'), ('county', 'prosecutors'), ('prosecutors', 'officer'), ('officer', 'involved'), ('involved', 'last'), ('last', 'nights'), ('nights', 'arrests'), ('salon', 'ramsey'), ('ramsey', 'midtown'), ('midtown', 'hair'), ('hair', 'care'), ('care', 'needs'), ('needs', '4048411499'), ('4048411499', 'wwwsalonramseynet'), ('hang', 'rooftop'), ('rooftop', 'enjoy'), ('enjoy', 'weather'), ('weather', 'skejidea'), ('skejidea', 'suggestions'), ('suggestions', 'happy'), ('happy', 'hour'), ('look', 'back'), ('back', 'remember'), ('remember', 'smile'), ('smile', 'move'), ('main', 'goals'), ('goals', 'next'), ('next', '3'), ('3', 'months'), ('months', 'follows'), ('a5', 'two'), ('two', 'words'), ('words', 'anna'), ('anna', 'kournikova'), ('kournikova', 'coke'), ('coke', 'danica'), ('danica', 'whats'), ('whats', 'appeal'), ('appeal', 'deal'), ('deal', 'wdriver'), ('wdriver', 'wonly'), ('wonly', '2'), ('2', 'wins'), ('begun', 'think'), ('think', 'training'), ('training', 'another'), ('another', 'run'), ('run', 'love'), ('love', 'goodlife'), ('goodlife', 'fitness'), ('fitness', 'victoria'), ('victoria', 'marathon'), ('marathon', 'dont'), ('dont', 'know'), ('know', 'time'), ('time', 'summer'), ('summer', 'commit'), ('commit', 'full'), ('full', 'training'), ('training', 'program'), ('future', 'career'), ('career', 'lately'), ('lately', 'thinking'), ('thinking', 'something'), ('something', 'involving'), ('involving', 'service'), ('service', 'international'), ('international', 'relations'), ('relations', 'said'), ('guys', 'kept'), ('kept', 'working'), ('working', 'plugging'), ('plugging', 'away'), ('away', 'zumwalt'), ('zumwalt', 'west'), ('west', 'coach'), ('coach', 'chad'), ('chad', 'towers'), ('towers', 'said'), ('said', 'south'), ('south', 'came'), ('came', 'strong'), ('strong', 'really'), ('really', 'played'), ('played', 'well'), ('well', 'start'), ('start', 'guys'), ('guys', 'dug'), ('dug', 'deep'), ('deep', 'battled'), ('battled', 'back'), ('mr', 'malanga'), ('malanga', 'senior'), ('senior', 'fellow'), ('fellow', 'manhattan'), ('manhattan', 'institute'), ('institute', 'contributor'), ('contributor', 'publicsectorincorg'), ('ugh', 'cant'), ('cant', 'stand'), ('stand', 'fucking'), ('fucking', 'class'), ('today', 'spotlight'), ('spotlight', 'radicchio'), ('radicchio', 'salad'), ('salad', 'bar'), ('bar', 'terra'), ('terra', 'feels'), ('feels', 'fullcircle'), ('fullcircle', 'moment'), ('moment', 'salad'), ('salad', 'inspires'), ('inspires', 'similar'), ('similar', 'sense'), ('sense', 'wonderment'), ('wonderment', 'fennel'), ('fennel', 'salad'), ('salad', 'long'), ('long', 'ago'), ('ago', 'straightforward'), ('straightforward', 'combination'), ('combination', 'radicchio'), ('radicchio', 'crunchy'), ('crunchy', 'bread'), ('bread', 'cubes'), ('cubes', 'balsamic'), ('balsamic', 'vinaigrette'), ('vinaigrette', 'parmesan'), ('parmesan', 'cheese'), ('cheese', 'taste'), ('taste', 'good'), ('cant', 'see'), ('police', 'nab'), ('nab', 'burglars'), ('burglars', 'aid'), ('aid', 'observant'), ('observant', 'caller'), ('caller', 'marshalltown'), ('marshalltown', 'times'), ('times', 'republican'), ('challenge', 'came'), ('came', 'perfect'), ('perfect', 'time'), ('time', 'actually'), ('actually', 'away'), ('away', 'weekend'), ('weekend', 'towns'), ('towns', 'annual'), ('annual', 'organic'), ('organic', 'farm'), ('farm', 'tour'), ('tour', '34'), ('34', 'farms'), ('farms', 'supply'), ('supply', 'coop'), ('coop', 'new'), ('new', 'leaf'), ('leaf', 'tallahassee'), ('tallahassee', 'fl'), ('fl', 'open'), ('open', 'allow'), ('allow', 'customers'), ('customers', 'tour'), ('tour', 'farms'), ('farms', 'understand'), ('understand', 'source'), ('source', 'delicious'), ('delicious', 'variety'), ('variety', 'offered'), ('offered', 'town'), ('town', 'brings'), ('brings', 'people'), ('people', 'north'), ('north', 'florida'), ('florida', 'south'), ('south', 'georgia'), ('georgia', 'tours'), ('tours', 'day'), ('day', 'saturday'), ('saturday', 'sunday'), ('sunday', 'since'), ('since', 'farms'), ('farms', 'provide'), ('provide', 'product'), ('product', 'new'), ('new', 'leaf'), ('leaf', 'local'), ('local', 'farmers'), ('farmers', 'market'), ('market', 'csas'), ('csas', 'even'), ('even', 'whole'), ('whole', 'foods'), ('today', 'good'), ('good', 'day'), ('crazy', 'day'), ('day', 'mall'), ('mall', 'brendan'), ('brendan', 'bought'), ('bought', 'top'), ('top', 'hat'), ('wrong', 'military'), ('military', 'employers'), ('employers', 'sports'), ('sports', 'courts'), ('courts', 'etc'), ('etc', 'would'), ('would', 'still'), ('still', 'test'), ('test', 'bec'), ('bec', 'want'), ('want', 'people'), ('people', 'straight'), ('3', 'days'), ('days', 'jenni'), ('jenni', 'urge'), ('urge', 'chew'), ('chew', 'gum'), ('community', 'mental'), ('mental', 'health'), ('health', 'centers'), ('centers', 'latest'), ('latest', 'trend'), ('trend', 'medicare'), ('medicare', 'fraud'), ('fraud', 'developed'), ('developed', 'complex'), ('complex', 'schemes'), ('schemes', 'years'), ('years', 'moving'), ('moving', 'medical'), ('medical', 'equipment'), ('equipment', 'hiv'), ('hiv', 'infusion'), ('infusion', 'fraud'), ('fraud', 'ambulance'), ('ambulance', 'scams'), ('scams', 'crooks'), ('crooks', 'try'), ('try', 'stay'), ('stay', 'one'), ('one', 'step'), ('step', 'ahead'), ('ahead', 'authorities'), ('authorities', 'scams'), ('scams', 'also'), ('also', 'grown'), ('grown', 'sophisticated'), ('sophisticated', 'using'), ('using', 'patient'), ('patient', 'recruiters'), ('recruiters', 'paid'), ('paid', 'kickbacks'), ('kickbacks', 'recruiting'), ('recruiting', 'patients'), ('patients', 'doctors'), ('doctors', 'nurses'), ('nurses', 'company'), ('company', 'owners'), ('owners', 'coordinate'), ('coordinate', 'make'), ('make', 'appear'), ('appear', 'delivering'), ('delivering', 'medical'), ('medical', 'services'), ('time', 'change'), ('asking', 'earth'), ('earth', 'ratio'), ('ratio', 'rally'), ('rally', 'previous'), ('previous', 'quote'), ('quote', 'might'), ('might', 'give'), ('give', 'little'), ('little', 'insight'), ('insight', 'youre'), ('youre', 'still'), ('still', 'scratching'), ('scratching', 'head'), ('head', 'dont'), ('dont', 'blame'), ('blame', 'allow'), ('allow', 'explain'), ('explain', 'nutshell'), ('nutshell', 'beginning'), ('beginning', 'past'), ('past', 'february'), ('february', 'bloggers'), ('bloggers', 'web'), ('web', 'rallied'), ('rallied', 'together'), ('together', 'month'), ('month', 'create'), ('create', 'glutenfree'), ('glutenfree', 'recipes'), ('recipes', 'based'), ('based', 'upon'), ('upon', 'culinary'), ('culinary', 'ratios'), ('ratios', 'set'), ('set', 'forth'), ('forth', 'michael'), ('michael', 'ruhlman'), ('ruhlman', 'month'), ('month', 'hosted'), ('hosted', 'different'), ('different', 'blogger'), ('blogger', 'month'), ('month', 'features'), ('features', 'different'), ('different', 'food'), ('food', 'item'), ('item', 'challenge'), ('challenge', 'ranging'), ('ranging', 'pancakes'), ('pancakes', 'pasta'), ('pasta', 'caught'), ('contrary', 'ms'), ('ms', 'pelosi'), ('pelosi', 'ilk'), ('ilk', 'suggesting'), ('suggesting', 'one'), ('one', 'trying'), ('trying', 'ban'), ('ban', 'contraception'), ('contraception', 'earth'), ('earth', 'someone'), ('someone', 'else'), ('else', 'responsible'), ('responsible', 'pay'), ('pay', 'catholic'), ('catholic', 'university'), ('university', 'insurance'), ('insurance', 'company'), ('company', 'barbara'), ('barbara', 'boxer'), ('boxer', 'chart'), ('chart', 'things'), ('things', 'nasty'), ('nasty', 'republicans'), ('republicans', 'going'), ('going', 'take'), ('take', 'away'), ('away', 'poor'), ('poor', 'women'), ('women', 'well'), ('well', 'made'), ('made', 'leap'), ('leap', 'logic'), ('logic', 'left'), ('left', 'country'), ('country', 'republicans'), ('republicans', 'dont'), ('dont', 'want'), ('want', 'american'), ('american', 'taxpayer'), ('taxpayer', 'pay'), ('pay', 'contraception'), ('contraception', 'wont'), ('wont', 'want'), ('want', 'pay'), ('pay', 'health'), ('health', 'needs'), ('needs', 'diabetic'), ('diabetic', 'woman'), ('woman', 'lumped'), ('lumped', 'issues'), ('issues', 'could'), ('could', 'possibly'), ('possibly', 'pertain'), ('pertain', 'women'), ('women', 'one'), ('one', 'category'), ('category', 'away'), ('away', 'tactics'), ('tactics', 'absolutely'), ('absolutely', 'ridiculous'), ('ridiculous', 'loud'), ('loud', 'persistent'), ('persistent', 'pretty'), ('pretty', 'soon'), ('soon', 'dont'), ('dont', 'agree'), ('agree', 'youve'), ('youve', 'fallen'), ('fallen', 'short'), ('short', 'approval'), ('approval', 'possibly'), ('possibly', 'live'), ('live', 'dares'), ('dares', 'actually'), ('actually', 'exercise'), ('exercise', 'common'), ('common', 'sense'), ('dumbfucks', 'pop'), ('pop', 'timeline'), ('timeline', 'type'), ('type', 'worse'), ('worse', 'dog'), ('dog', 'humping'), ('humping', 'keyboard'), ('keyboard', 'hard'), ('hard', 'promise'), ('weve', 'got'), ('got', 'tasty'), ('tasty', 'treats'), ('treats', 'mondays'), ('mondays', 'dishcrawl'), ('dishcrawl', 'lamb'), ('lamb', 'goodness'), ('goodness', '2'), ('2', 'ways'), ('ways', 'lemon'), ('lemon', 'beef'), ('beef', 'burger'), ('burger', 'gods'), ('gods', 'accompanied'), ('kind', 'feel'), ('feel', 'twinkies'), ('twinkies', 'dublin'), ('dublin', 'dr'), ('dr', 'peppers'), ('peppers', 'dinner'), ('great', 'good'), ('good', 'workplace'), ('workplace', 'wednesday'), ('wednesday', 'noon'), ('noon', 'among'), ('among', 'others'), ('others', 'eliot'), ('eliot', 'makes'), ('makes', 'great'), ('great', 'shop'), ('jealous', 'got'), ('got', 'go'), ('go', '7'), ('7', 'hours'), ('hours', 'new'), ('new', 'music'), ('music', 'yesterday'), ('ole', 'project'), ('project', 'hoe'), ('topic', 'color'), ('color', 'mood'), ('mood', 'thrown'), ('thrown', 'right'), ('right', 'back'), ('back', 'cranky'), ('cranky', 'popped'), ('popped', 'new'), ('new', 'studio'), ('studio', 'way'), ('way', 'home'), ('home', 'later'), ('later', 'afternoon'), ('afternoon', 'painter'), ('painter', 'spray'), ('spray', 'painted'), ('painted', 'entire'), ('entire', 'window'), ('window', 'wall'), ('wall', 'black'), ('black', 'black'), ('black', 'mean'), ('mean', 'black'), ('black', 'black'), ('black', 'ceiling'), ('ceiling', 'black'), ('black', 'studio'), ('studio', 'suddenly'), ('suddenly', 'cave'), ('cave', 'every'), ('every', 'bit'), ('bit', 'sun'), ('sun', 'sucked'), ('sucked', 'oblivion'), ('oblivion', 'wall'), ('wall', 'ceiling'), ('ceiling', 'building'), ('building', 'manager'), ('manager', 'said'), ('said', 'cant'), ('cant', 'put'), ('put', 'back'), ('back', 'white'), ('white', 'ill'), ('ill', 'sigh'), ('sigh', 'much'), ('much', 'work'), ('work', 'latest'), ('latest', 'color'), ('color', 'canvas'), ('canvas', 'piece'), ('piece', 'due'), ('due', 'next'), ('next', 'week'), ('week', 'need'), ('need', 'painting'), ('painting', 'wall'), ('wall', '15ft'), ('15ft', 'ceiling'), ('ceiling', 'list'), ('list', 'argh'), ('whatever', 'youre'), ('youre', 'whatever'), ('whatever', 'fuck'), ('fuck', 'whoa'), ('whoa', 'dont'), ('dont', 'threaten'), ('threaten', 'good'), ('good', 'time'), ('time', 'might'), ('thanks', 'watching'), ('watching', 'delhikolkata'), ('hilarious', 'dying'), ('dying', 'haha'), ('gonna', 'bonfire'), ('bonfire', 'nephew'), ('garden', 'cannot'), ('cannot', 'sprout'), ('initiates', 'action'), ('action', 'takes'), ('takes', 'prompt'), ('prompt', 'action'), ('action', 'accomplish'), ('accomplish', 'objectives'), ('objectives', 'takes'), ('takes', 'action'), ('action', 'achieve'), ('achieve', 'goals'), ('goals', 'beyond'), ('beyond', 'required'), ('required', 'proactive'), ('proactive', 'ie'), ('ie', 'responds'), ('responds', 'quickly'), ('quickly', 'takes'), ('takes', 'independent'), ('independent', 'action'), ('action', 'goes'), ('goes', 'beyond'), ('fruit', 'whipped'), ('whipped', 'cream'), ('cream', 'know'), ('know', 'straight'), ('straight', 'g'), ('g', 'shit'), ('homage', 'blatant'), ('blatant', 'copying'), ('copying', 'chris'), ('chris', 'thinly'), ('thinly', 'spread'), ('spread', 'bring'), ('bring', 'favorite'), ('favorite', 'weekend'), ('weekend', 'autumn'), ('autumn', 'walk'), ('walk', 'pretty'), ('pretty', 'lucky'), ('lucky', 'boys'), ('boys', 'started'), ('started', 'walk'), ('walk', 'love'), ('love', 'often'), ('often', 'maddad'), ('maddad', 'start'), ('start', 'back'), ('back', 'first'), ('800', 'new'), ('new', 'oncology'), ('oncology', 'cases'), ('cases', 'come'), ('come', 'doors'), ('doors', 'sjh'), ('sjh', 'year'), ('year', 'lung'), ('lung', 'cancer'), ('cancer', 'represented'), ('represented', 'approximately'), ('approximately', 'third'), ('third', 'cases'), ('cases', '2010'), ('2010', 'breast'), ('breast', 'prostate'), ('prostate', 'colorectal'), ('colorectal', 'nonhodgkin'), ('nonhodgkin', 'lymphoma'), ('lymphoma', 'pancreatic'), ('pancreatic', 'cancers'), ('cancers', 'following'), ('following', 'order'), ('order', 'fewest'), ('fewest', 'local'), ('local', 'diagnoses'), ('mei', 'sum'), ('sum', 'dim'), ('dim', 'sum'), ('sum', '65'), ('65', 'n'), ('n', 'pauahi'), ('pauahi', 'st'), ('st', 'honolulu'), ('honolulu', '808'), ('808', '5313268'), ('amazing', 'spiderman'), ('cavemen', 'twitter'), ('twitter', 'would'), ('would', 'still'), ('still', 'fire'), ('htmlcss', 'driving'), ('driving', 'nuts'), ('instagram', 'someone'), ('someone', 'tht'), ('tht', 'looks'), ('looks', 'exactly'), ('romans', '138let'), ('138let', 'debt'), ('debt', 'remain'), ('remain', 'outstanding'), ('outstanding', 'except'), ('except', 'continuing'), ('continuing', 'debt'), ('debt', 'love'), ('love', 'one'), ('one', 'another'), ('another', 'whoever'), ('whoever', 'loves'), ('loves', 'others'), ('others', 'fulfilled'), ('fulfilled', 'law'), ('never', 'see'), ('see', 'horn'), ('horn', 'horn'), ('horn', 'todd'), ('okay', 'weight'), ('weight', 'walk'), ('walk', 'hell'), ('hell', 'amusement'), ('amusement', 'park'), ('hey', 'gotta'), ('gotta', 'see'), ('see', 'hungergames'), ('hungergames', 'amazing'), ('amazing', 'id'), ('id', 'see'), ('carolyn', 'ives'), ('ives', 'gilman'), ('gilman', 'produce'), ('produce', 'exciting'), ('exciting', 'adventure'), ('adventure', 'tale'), ('tale', 'thoughtful'), ('thoughtful', 'exploration'), ('exploration', 'political'), ('political', 'philosophical'), ('philosophical', 'themes'), ('themes', 'indepth'), ('indepth', 'study'), ('study', 'fascinating'), ('fascinating', 'characters'), ('characters', 'authors'), ('authors', 'well'), ('well', 'accomplish'), ('accomplish', 'one'), ('one', 'things'), ('interesting', 'jailed'), ('jailed', 'us'), ('us', 'contractor'), ('contractor', 'alan'), ('alan', 'gross'), ('gross', 'used'), ('used', 'one'), ('one', 'phonecall'), ('phonecall', 'week'), ('week', 'cuba'), ('cuba', 'call'), ('call', 'andrea'), ('andrea', 'mitchell'), ('mitchell', 'plead'), ('plead', 'help'), ('looking', 'catchy'), ('catchy', 'name'), ('name', 'blog'), ('blog', 'also'), ('also', 'one'), ('one', 'incorporates'), ('incorporates', 'something'), ('something', 'believe'), ('believe', 'feel'), ('feel', 'strongly'), ('strongly', 'balance'), ('balance', 'honest'), ('honest', 'difficult'), ('difficult', 'corporate'), ('corporate', 'america'), ('america', 'named'), ('named', 'blog'), ('blog', 'leaveatfive'), ('leaveatfive', 'feel'), ('feel', '5pm'), ('5pm', 'represents'), ('represents', 'full'), ('full', 'day'), ('day', 'office'), ('office', 'important'), ('important', 'interests'), ('interests', 'outside'), ('outside', 'sitting'), ('sitting', 'desk'), ('purpose', 'bill'), ('bill', 'put'), ('put', 'business'), ('business', 'regulate'), ('regulate', 'said'), ('said', 'didnt'), ('didnt', 'put'), ('put', 'caps'), ('caps', 'cash'), ('cash', 'prizes'), ('prizes', 'cap'), ('cap', 'many'), ('many', 'places'), ('places', 'one'), ('one', 'area'), ('area', 'police'), ('police', 'trying'), ('trying', 'shut'), ('facebook', 'ipo'), ('ipo', 'set'), ('set', 'norwegian'), ('norwegian', 'independence'), ('independence', 'day'), ('day', 'may'), ('may', '17'), ('also', 'email'), ('email', 'seems'), ('seems', 'strange'), ('8', 'tom'), ('tom', 'rushen'), ('rushen', 'blues'), ('factchecking', 'revealed'), ('revealed', 'numerous'), ('numerous', 'questionable'), ('questionable', 'statements'), ('roger', 'sterling'), ('sterling', 'line'), ('line', 'week'), ('week', 'week'), ('week', 'perhaps'), ('perhaps', 'shaken'), ('shaken', 'encounter'), ('encounter', 'peggy'), ('peggy', 'come'), ('come', 'anything'), ('anything', 'quippy'), ('watching', 'goal'), ('goal', '2'), ('2', 'living'), ('living', 'dream'), ('important', 'distinguish'), ('distinguish', 'wisdom'), ('wisdom', 'crowds'), ('crowds', 'madness'), ('madness', 'masses'), ('following', 'opening'), ('opening', 'chapter'), ('chapter', 'gaus'), ('gaus', 'proceeds'), ('proceeds', 'describe'), ('describe', 'evaluate'), ('evaluate', 'seven'), ('seven', 'different'), ('different', 'postenlightenment'), ('postenlightenment', 'theories'), ('theories', 'liberalism'), ('big', 'financial'), ('financial', 'services'), ('robbins', 'said'), ('said', 'november'), ('november', 'bond'), ('bond', 'election'), ('election', 'could'), ('could', 'become'), ('become', 'afterthought'), ('afterthought', 'presidential'), ('presidential', 'ballot'), ('ballot', 'state'), ('state', 'local'), ('local', 'elections'), ('holly', 'oh'), ('oh', 'yes'), ('yes', 'delaneys'), ('delaneys', 'secret'), ('secret', 'dbaw'), ('starting', 'think'), ('think', 'never'), ('never', 'able'), ('able', 'drive'), ('check', 'amazoncom'), ('give', 'second'), ('second', 'chance'), ('chance', 'use'), ('use', 'extreme'), ('extreme', 'caution'), ('give', 'prizes'), ('prizes', 'day'), ('day', 'honor'), ('honor', 'scientific'), ('scientific', 'technical'), ('technical', 'winners'), ('winners', 'show'), ('show', 'actually'), ('actually', 'goes'), ('goes', 'live'), ('live', 'simply'), ('simply', 'briefly'), ('briefly', 'announce'), ('announce', 'winners'), ('way', 'cwcon'), ('cwcon', 'trying'), ('trying', 'remember'), ('remember', 'ive'), ('ive', 'forgotten'), ('forgotten', 'pack'), ('often', 'saddle'), ('saddle', 'wrong'), ('wrong', 'height'), ('height', 'quick'), ('quick', 'way'), ('way', 'check'), ('check', 'put'), ('put', 'heel'), ('heel', 'pedal'), ('pedal', 'bottom'), ('bottom', 'stroke'), ('stroke', 'leg'), ('leg', 'straight'), ('straight', 'without'), ('without', 'tilting'), ('tilting', 'hips'), ('hips', 'saddle'), ('saddle', 'right'), ('right', 'height'), ('height', 'ride'), ('ride', 'ball'), ('ball', 'foot'), ('foot', 'pedal')]\n"
          ],
          "name": "stdout"
        }
      ]
    },
    {
      "cell_type": "code",
      "metadata": {
        "id": "5EDWw8HVmCDl"
      },
      "source": [
        ""
      ],
      "id": "5EDWw8HVmCDl",
      "execution_count": null,
      "outputs": []
    },
    {
      "cell_type": "code",
      "metadata": {
        "colab": {
          "base_uri": "https://localhost:8080/"
        },
        "id": "D-YKCmEywhbX",
        "outputId": "29d5a57c-ddf9-4287-cb50-fc8bdde6b52f"
      },
      "source": [
        "trigrama=[]\n",
        "print(trigrama)\n",
        "size=3\n",
        "ngram(trigrama, size)\n",
        "print(trigrama)"
      ],
      "id": "D-YKCmEywhbX",
      "execution_count": 31,
      "outputs": [
        {
          "output_type": "stream",
          "text": [
            "[]\n",
            "[('dont', 'expect', 'make'), ('expect', 'make', 'million'), ('make', 'million', 'added'), ('million', 'added', 'araceli'), ('added', 'araceli', 'restaurant'), ('araceli', 'restaurant', 'server'), ('restaurant', 'server', 'dollar'), ('server', 'dollar', 'pocket'), ('dollar', 'pocket', 'thank'), ('pocket', 'thank', 'god'), ('knights', 'aim', 'improvement'), ('youre', 'best', 'dude'), ('best', 'dude', 'podcasting'), ('dude', 'podcasting', 'movies'), ('podcasting', 'movies', 'know'), ('continued', 'pachyderm', 'project'), ('pachyderm', 'project', 'ipad'), ('project', 'ipad', 'app'), ('ipad', 'app', 'generated'), ('bills', 'recently', 'introduced'), ('recently', 'introduced', 'us'), ('introduced', 'us', 'house'), ('us', 'house', 'senate'), ('house', 'senate', 'new'), ('senate', 'new', 'jersey'), ('new', 'jersey', 'lawmakers'), ('jersey', 'lawmakers', 'aim'), ('lawmakers', 'aim', 'close'), ('aim', 'close', 'loopholes'), ('close', 'loopholes', 'natural'), ('loopholes', 'natural', 'gas'), ('natural', 'gas', 'drillers'), ('gas', 'drillers', 'written'), ('drillers', 'written', 'federal'), ('written', 'federal', 'environmental'), ('federal', 'environmental', 'regulations')]\n"
          ],
          "name": "stdout"
        }
      ]
    },
    {
      "cell_type": "markdown",
      "metadata": {
        "id": "4S0noP7jwqnU"
      },
      "source": [
        "### K-Nearest Neighbor Probability Model"
      ],
      "id": "4S0noP7jwqnU"
    },
    {
      "cell_type": "code",
      "metadata": {
        "id": "zzTY0e4swoDS"
      },
      "source": [
        "model = defaultdict(lambda: defaultdict(lambda: 0))\n",
        "for i,j,k in trigrama:\n",
        "    model[(i,j)][k] +=1\n",
        "for i,j in model:\n",
        "    total=float(sum(model[(i,j)].values()))\n",
        "    for k in model[(i,j)]:\n",
        "        model[(i,j)][k] /= total"
      ],
      "id": "zzTY0e4swoDS",
      "execution_count": 32,
      "outputs": []
    },
    {
      "cell_type": "markdown",
      "metadata": {
        "id": "TzJdguyFxJwk"
      },
      "source": [
        "### Función de predicción"
      ],
      "id": "TzJdguyFxJwk"
    },
    {
      "cell_type": "code",
      "metadata": {
        "id": "wBqdL3JzxJFI"
      },
      "source": [
        "def prediction(palabra1,palabra2):\n",
        "  word1 = \"\"\n",
        "  word2 = \"\"\n",
        "  word3 = \"\"\n",
        "  model2 = copy.deepcopy(model)\n",
        "  for predicciones in range(3):\n",
        "    palabranueva = \"\"\n",
        "    for palabra in model2[(palabra1,palabra2)]:\n",
        "      currentWord = 0.0\n",
        "      for possibleValues in model2[(palabra1, palabra2)].keys():\n",
        "        valor = model2[(palabra1,palabra2)][possibleValues]\n",
        "        if (valor > currentWord):\n",
        "          palabranueva = possibleValues\n",
        "          currentWord = valor\n",
        "        else:\n",
        "          pass\n",
        "    if (word1 == \"\"):\n",
        "      word1 = palabranueva\n",
        "      model2[(palabra1,palabra2)].pop(palabranueva)\n",
        "    elif (word2 == \"\"):\n",
        "      word2 = palabranueva\n",
        "      model2[(palabra1,palabra2)].pop(palabranueva)\n",
        "    elif (word3 == \"\"):\n",
        "      word3 = palabranueva\n",
        "      model2[(palabra1,palabra2)].pop(palabranueva)\n",
        "  return word1, word2, word3"
      ],
      "id": "wBqdL3JzxJFI",
      "execution_count": 41,
      "outputs": []
    },
    {
      "cell_type": "code",
      "metadata": {
        "colab": {
          "base_uri": "https://localhost:8080/",
          "height": 340
        },
        "id": "sBlnWGg60e7Z",
        "outputId": "5c30558c-862f-4167-d59a-3979f9f69a25"
      },
      "source": [
        "palabra1, palabra2, palabra3 = \"\",\"\",\"\"\n",
        "palabra1, palabra2, palabra3 = prediction(\"hot\",\"dogs\")\n",
        "print(\"Palabras \"+str(palabra1)+','+str(palabra2)+','+str(palabra3))"
      ],
      "id": "sBlnWGg60e7Z",
      "execution_count": 47,
      "outputs": [
        {
          "output_type": "error",
          "ename": "KeyError",
          "evalue": "ignored",
          "traceback": [
            "\u001b[0;31m---------------------------------------------------------------------------\u001b[0m",
            "\u001b[0;31mKeyError\u001b[0m                                  Traceback (most recent call last)",
            "\u001b[0;32m<ipython-input-47-f31722bac751>\u001b[0m in \u001b[0;36m<module>\u001b[0;34m()\u001b[0m\n\u001b[1;32m      1\u001b[0m \u001b[0mpalabra1\u001b[0m\u001b[0;34m,\u001b[0m \u001b[0mpalabra2\u001b[0m\u001b[0;34m,\u001b[0m \u001b[0mpalabra3\u001b[0m \u001b[0;34m=\u001b[0m \u001b[0;34m\"\"\u001b[0m\u001b[0;34m,\u001b[0m\u001b[0;34m\"\"\u001b[0m\u001b[0;34m,\u001b[0m\u001b[0;34m\"\"\u001b[0m\u001b[0;34m\u001b[0m\u001b[0;34m\u001b[0m\u001b[0m\n\u001b[0;32m----> 2\u001b[0;31m \u001b[0mpalabra1\u001b[0m\u001b[0;34m,\u001b[0m \u001b[0mpalabra2\u001b[0m\u001b[0;34m,\u001b[0m \u001b[0mpalabra3\u001b[0m \u001b[0;34m=\u001b[0m \u001b[0mprediction\u001b[0m\u001b[0;34m(\u001b[0m\u001b[0;34m\"hot\"\u001b[0m\u001b[0;34m,\u001b[0m\u001b[0;34m\"dogs\"\u001b[0m\u001b[0;34m)\u001b[0m\u001b[0;34m\u001b[0m\u001b[0;34m\u001b[0m\u001b[0m\n\u001b[0m\u001b[1;32m      3\u001b[0m \u001b[0mprint\u001b[0m\u001b[0;34m(\u001b[0m\u001b[0;34m\"Palabras \"\u001b[0m\u001b[0;34m+\u001b[0m\u001b[0mstr\u001b[0m\u001b[0;34m(\u001b[0m\u001b[0mpalabra1\u001b[0m\u001b[0;34m)\u001b[0m\u001b[0;34m+\u001b[0m\u001b[0;34m','\u001b[0m\u001b[0;34m+\u001b[0m\u001b[0mstr\u001b[0m\u001b[0;34m(\u001b[0m\u001b[0mpalabra2\u001b[0m\u001b[0;34m)\u001b[0m\u001b[0;34m+\u001b[0m\u001b[0;34m','\u001b[0m\u001b[0;34m+\u001b[0m\u001b[0mstr\u001b[0m\u001b[0;34m(\u001b[0m\u001b[0mpalabra3\u001b[0m\u001b[0;34m)\u001b[0m\u001b[0;34m)\u001b[0m\u001b[0;34m\u001b[0m\u001b[0;34m\u001b[0m\u001b[0m\n",
            "\u001b[0;32m<ipython-input-41-88501d14d9b0>\u001b[0m in \u001b[0;36mprediction\u001b[0;34m(palabra1, palabra2)\u001b[0m\n\u001b[1;32m     17\u001b[0m     \u001b[0;32mif\u001b[0m \u001b[0;34m(\u001b[0m\u001b[0mword1\u001b[0m \u001b[0;34m==\u001b[0m \u001b[0;34m\"\"\u001b[0m\u001b[0;34m)\u001b[0m\u001b[0;34m:\u001b[0m\u001b[0;34m\u001b[0m\u001b[0;34m\u001b[0m\u001b[0m\n\u001b[1;32m     18\u001b[0m       \u001b[0mword1\u001b[0m \u001b[0;34m=\u001b[0m \u001b[0mpalabranueva\u001b[0m\u001b[0;34m\u001b[0m\u001b[0;34m\u001b[0m\u001b[0m\n\u001b[0;32m---> 19\u001b[0;31m       \u001b[0mmodel2\u001b[0m\u001b[0;34m[\u001b[0m\u001b[0;34m(\u001b[0m\u001b[0mpalabra1\u001b[0m\u001b[0;34m,\u001b[0m\u001b[0mpalabra2\u001b[0m\u001b[0;34m)\u001b[0m\u001b[0;34m]\u001b[0m\u001b[0;34m.\u001b[0m\u001b[0mpop\u001b[0m\u001b[0;34m(\u001b[0m\u001b[0mpalabranueva\u001b[0m\u001b[0;34m)\u001b[0m\u001b[0;34m\u001b[0m\u001b[0;34m\u001b[0m\u001b[0m\n\u001b[0m\u001b[1;32m     20\u001b[0m     \u001b[0;32melif\u001b[0m \u001b[0;34m(\u001b[0m\u001b[0mword2\u001b[0m \u001b[0;34m==\u001b[0m \u001b[0;34m\"\"\u001b[0m\u001b[0;34m)\u001b[0m\u001b[0;34m:\u001b[0m\u001b[0;34m\u001b[0m\u001b[0;34m\u001b[0m\u001b[0m\n\u001b[1;32m     21\u001b[0m       \u001b[0mword2\u001b[0m \u001b[0;34m=\u001b[0m \u001b[0mpalabranueva\u001b[0m\u001b[0;34m\u001b[0m\u001b[0;34m\u001b[0m\u001b[0m\n",
            "\u001b[0;31mKeyError\u001b[0m: ''"
          ]
        }
      ]
    }
  ]
}